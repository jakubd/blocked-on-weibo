{
 "cells": [
  {
   "cell_type": "markdown",
   "metadata": {
    "toc": "true"
   },
   "source": [
    "# Table of Contents\n",
    " <p>"
   ]
  },
  {
   "cell_type": "code",
   "execution_count": 1,
   "metadata": {
    "ExecuteTime": {
     "end_time": "2017-08-10T19:46:18.003918Z",
     "start_time": "2017-08-10T15:46:17.040846-04:00"
    }
   },
   "outputs": [],
   "source": [
    "from blockedonweibo import weibo\n",
    "from blockedonweibo import weibo_credentials\n",
    "import ast\n",
    "import os\n",
    "import pandas as pd"
   ]
  },
  {
   "cell_type": "code",
   "execution_count": 2,
   "metadata": {
    "ExecuteTime": {
     "end_time": "2017-08-10T19:46:18.948357Z",
     "start_time": "2017-08-10T15:46:18.942807-04:00"
    },
    "collapsed": true
   },
   "outputs": [],
   "source": [
    "sqlite_file = 'results.sqlite' # name of sqlite file to read from/write to\n",
    "new_database = True # erases any existing sqlite file and generates an empty one to write to\n",
    "verbose = \"some\" # 'none',some','all'\n",
    "load_cookies = True # load cookies from disk (can load cookies without having to do fresh_log_in if cookies already exist)\n",
    "fresh_log_in = False # perform a log in\n",
    "write_cookies = False # save cookies and overwrite any existing cookies during log in\n",
    "cookie_file = weibo_credentials.Creds().username + \"_cookie.txt\" # name of cookie file in case you want to specify"
   ]
  },
  {
   "cell_type": "code",
   "execution_count": 4,
   "metadata": {
    "ExecuteTime": {
     "end_time": "2017-08-10T19:46:26.630932Z",
     "start_time": "2017-08-10T15:46:26.626004-04:00"
    }
   },
   "outputs": [],
   "source": [
    "if load_cookies:\n",
    "    with open(cookie_file, 'r') as f:\n",
    "        cookie = ast.literal_eval(f.read())\n",
    "else:\n",
    "    cookie = None"
   ]
  },
  {
   "cell_type": "code",
   "execution_count": 11,
   "metadata": {
    "ExecuteTime": {
     "end_time": "2017-08-10T19:32:23.531738Z",
     "start_time": "2017-08-10T15:32:18.975172-04:00"
    }
   },
   "outputs": [
    {
     "data": {
      "text/plain": [
       "False"
      ]
     },
     "execution_count": 11,
     "metadata": {},
     "output_type": "execute_result"
    }
   ],
   "source": [
    "weibo.verify_cookies_work(cookie)"
   ]
  },
  {
   "cell_type": "code",
   "execution_count": 7,
   "metadata": {
    "ExecuteTime": {
     "end_time": "2017-08-10T19:50:18.037689Z",
     "start_time": "2017-08-10T15:50:18.030033-04:00"
    }
   },
   "outputs": [],
   "source": [
    "if new_database and os.path.isfile(sqlite_file):\n",
    "    os.remove(sqlite_file)\n",
    "if not os.path.isfile(sqlite_file):\n",
    "    weibo.create_table(sqlite_file)"
   ]
  },
  {
   "cell_type": "code",
   "execution_count": 5,
   "metadata": {
    "ExecuteTime": {
     "end_time": "2017-08-10T19:47:22.213627Z",
     "start_time": "2017-08-10T15:46:30.352419-04:00"
    }
   },
   "outputs": [
    {
     "name": "stdout",
     "output_type": "stream",
     "text": [
      "0 hello has_results\n",
      "1 lxb censored\n",
      "2 习胞子 no_results\n"
     ]
    },
    {
     "data": {
      "text/html": [
       "<div>\n",
       "<table border=\"1\" class=\"dataframe\">\n",
       "  <thead>\n",
       "    <tr style=\"text-align: right;\">\n",
       "      <th></th>\n",
       "      <th>date</th>\n",
       "      <th>datetime</th>\n",
       "      <th>keyword</th>\n",
       "      <th>num_results</th>\n",
       "      <th>result</th>\n",
       "      <th>source</th>\n",
       "    </tr>\n",
       "  </thead>\n",
       "  <tbody>\n",
       "    <tr>\n",
       "      <th>0</th>\n",
       "      <td>2017-08-10</td>\n",
       "      <td>2017-08-10 15:46:34.522536</td>\n",
       "      <td>hello</td>\n",
       "      <td>[]</td>\n",
       "      <td>has_results</td>\n",
       "      <td>test</td>\n",
       "    </tr>\n",
       "    <tr>\n",
       "      <th>0</th>\n",
       "      <td>2017-08-10</td>\n",
       "      <td>2017-08-10 15:46:50.086780</td>\n",
       "      <td>lxb</td>\n",
       "      <td>None</td>\n",
       "      <td>censored</td>\n",
       "      <td>test</td>\n",
       "    </tr>\n",
       "    <tr>\n",
       "      <th>0</th>\n",
       "      <td>2017-08-10</td>\n",
       "      <td>2017-08-10 15:47:07.191267</td>\n",
       "      <td>习胞子</td>\n",
       "      <td>None</td>\n",
       "      <td>no_results</td>\n",
       "      <td>unicode</td>\n",
       "    </tr>\n",
       "  </tbody>\n",
       "</table>\n",
       "</div>"
      ],
      "text/plain": [
       "         date                   datetime keyword num_results       result  \\\n",
       "0  2017-08-10 2017-08-10 15:46:34.522536   hello          []  has_results   \n",
       "0  2017-08-10 2017-08-10 15:46:50.086780     lxb        None     censored   \n",
       "0  2017-08-10 2017-08-10 15:47:07.191267     习胞子        None   no_results   \n",
       "\n",
       "    source  \n",
       "0     test  \n",
       "0     test  \n",
       "0  unicode  "
      ]
     },
     "execution_count": 5,
     "metadata": {},
     "output_type": "execute_result"
    }
   ],
   "source": [
    "sample_keywords = pd.DataFrame(\n",
    "    [{'keyword':'hello','Index':0,'source':'test'},\n",
    "     {'keyword':'lxb','Index':1,'source':'test'},\n",
    "     {'keyword':u'习胞子','Index':2,'source':'unicode'},\n",
    "     #{'keyword':'自由亚洲电台','Index':3,'source':'should reset'},\n",
    "     #{'keyword':'刘晓波','Index':4,'source':'string'},\n",
    "     #{'keyword':'dhfjkdashfjkasdhfsadsf87sadfhjfasdnf'}\n",
    "    ])\n",
    "\n",
    "weibo.run(sample_keywords,verbose='all',insert=False,return_df=True,sqlite_file=sqlite_file)"
   ]
  },
  {
   "cell_type": "code",
   "execution_count": 6,
   "metadata": {
    "ExecuteTime": {
     "end_time": "2017-08-10T19:48:03.544827Z",
     "start_time": "2017-08-10T15:48:03.409057-04:00"
    }
   },
   "outputs": [
    {
     "data": {
      "text/html": [
       "<div>\n",
       "<table border=\"1\" class=\"dataframe\">\n",
       "  <thead>\n",
       "    <tr style=\"text-align: right;\">\n",
       "      <th></th>\n",
       "      <th>id</th>\n",
       "      <th>date</th>\n",
       "      <th>datetime</th>\n",
       "      <th>keyword</th>\n",
       "      <th>censored</th>\n",
       "      <th>no_results</th>\n",
       "      <th>reset</th>\n",
       "      <th>result</th>\n",
       "      <th>source</th>\n",
       "      <th>num_results</th>\n",
       "      <th>notes</th>\n",
       "    </tr>\n",
       "  </thead>\n",
       "  <tbody>\n",
       "  </tbody>\n",
       "</table>\n",
       "</div>"
      ],
      "text/plain": [
       "Empty DataFrame\n",
       "Columns: [id, date, datetime, keyword, censored, no_results, reset, result, source, num_results, notes]\n",
       "Index: []"
      ]
     },
     "execution_count": 6,
     "metadata": {},
     "output_type": "execute_result"
    }
   ],
   "source": [
    "df = weibo.sqlite_to_df(sqlite_file)\n",
    "df"
   ]
  }
 ],
 "metadata": {
  "anaconda-cloud": {},
  "kernelspec": {
   "display_name": "Python [conda root]",
   "language": "python",
   "name": "conda-root-py"
  },
  "language_info": {
   "codemirror_mode": {
    "name": "ipython",
    "version": 2
   },
   "file_extension": ".py",
   "mimetype": "text/x-python",
   "name": "python",
   "nbconvert_exporter": "python",
   "pygments_lexer": "ipython2",
   "version": "2.7.12"
  },
  "toc": {
   "colors": {
    "hover_highlight": "#DAA520",
    "running_highlight": "#FF0000",
    "selected_highlight": "#FFD700"
   },
   "moveMenuLeft": true,
   "nav_menu": {
    "height": "12px",
    "width": "252px"
   },
   "navigate_menu": true,
   "number_sections": true,
   "sideBar": true,
   "threshold": 4,
   "toc_cell": true,
   "toc_section_display": "block",
   "toc_window_display": false
  }
 },
 "nbformat": 4,
 "nbformat_minor": 2
}
