{
 "cells": [
  {
   "cell_type": "markdown",
   "metadata": {
    "ExecuteTime": {
     "end_time": "2017-09-25T13:08:32.756596Z",
     "start_time": "2017-09-25T09:08:32.753210-04:00"
    }
   },
   "source": [
    "# What is blockedonweibo?"
   ]
  },
  {
   "cell_type": "markdown",
   "metadata": {},
   "source": [
    "This python package allows you to automate tests to check if a keyword is censored or not on Sina Weibo, a Chinese social media site. It is an updated version of the script which was used to detect keywords on the site, http://blockedonweibo.com. It handles interrupted tests, multiple tests per day, storing results to a database, and a number of other features which simplify testing Weibo censorship at scale. The researcher merely has to feed the script a list of words for one-off tests. For recurring tests, simply wrap the script with a scheduler."
   ]
  },
  {
   "cell_type": "markdown",
   "metadata": {},
   "source": [
    "<img src=\"../screenshot.png\" alt=\"screenshot\" style=\"width: 700px;\"/>"
   ]
  },
  {
   "cell_type": "markdown",
   "metadata": {
    "toc": "true"
   },
   "source": [
    "# Table of Contents\n",
    " <p><div class=\"lev1 toc-item\"><a href=\"#What-is-blockedonweibo?\" data-toc-modified-id=\"What-is-blockedonweibo?-1\"><span class=\"toc-item-num\">1&nbsp;&nbsp;</span>What is blockedonweibo?</a></div><div class=\"lev1 toc-item\"><a href=\"#Install-the-blockedonweibo-package\" data-toc-modified-id=\"Install-the-blockedonweibo-package-2\"><span class=\"toc-item-num\">2&nbsp;&nbsp;</span>Install the blockedonweibo package</a></div><div class=\"lev1 toc-item\"><a href=\"#Adjust-your-settings\" data-toc-modified-id=\"Adjust-your-settings-3\"><span class=\"toc-item-num\">3&nbsp;&nbsp;</span>Adjust your settings</a></div><div class=\"lev1 toc-item\"><a href=\"#Let's-start-testing!\" data-toc-modified-id=\"Let's-start-testing!-4\"><span class=\"toc-item-num\">4&nbsp;&nbsp;</span>Let's start testing!</a></div><div class=\"lev2 toc-item\"><a href=\"#Pass-a-dictionary-of-keywords-to-start-testing\" data-toc-modified-id=\"Pass-a-dictionary-of-keywords-to-start-testing-41\"><span class=\"toc-item-num\">4.1&nbsp;&nbsp;</span>Pass a dictionary of keywords to start testing</a></div><div class=\"lev2 toc-item\"><a href=\"#Pass-in-cookies-so-you-can-also-get-the-number-of-results.-Pass-in-sqlite_file-to-save-the-results-to-disk-so-you-can-load-it-later\" data-toc-modified-id=\"Pass-in-cookies-so-you-can-also-get-the-number-of-results.-Pass-in-sqlite_file-to-save-the-results-to-disk-so-you-can-load-it-later-42\"><span class=\"toc-item-num\">4.2&nbsp;&nbsp;</span>Pass in cookies so you can also get the number of results. Pass in sqlite_file to save the results to disk so you can load it later</a></div><div class=\"lev2 toc-item\"><a href=\"#If-your-test-gets-interrupted-or-you-add-more-keywords,-you-can-pick-up-where-you-left-off\" data-toc-modified-id=\"If-your-test-gets-interrupted-or-you-add-more-keywords,-you-can-pick-up-where-you-left-off-43\"><span class=\"toc-item-num\">4.3&nbsp;&nbsp;</span>If your test gets interrupted or you add more keywords, you can pick up where you left off</a></div><div class=\"lev2 toc-item\"><a href=\"#You-can-attach-notes-or-categorizations-to-your-keywords-for-easy-querying-and-analysis-later\" data-toc-modified-id=\"You-can-attach-notes-or-categorizations-to-your-keywords-for-easy-querying-and-analysis-later-44\"><span class=\"toc-item-num\">4.4&nbsp;&nbsp;</span>You can attach notes or categorizations to your keywords for easy querying and analysis later</a></div><div class=\"lev2 toc-item\"><a href=\"#If-you-want-to-test-multiple-times-a-day,-just-pass-in-the-test_number-param\" data-toc-modified-id=\"If-you-want-to-test-multiple-times-a-day,-just-pass-in-the-test_number-param-45\"><span class=\"toc-item-num\">4.5&nbsp;&nbsp;</span>If you want to test multiple times a day, just pass in the <code>test_number</code> param</a></div><div class=\"lev2 toc-item\"><a href=\"#It-can-skip-redundant-keywords\" data-toc-modified-id=\"It-can-skip-redundant-keywords-46\"><span class=\"toc-item-num\">4.6&nbsp;&nbsp;</span>It can skip redundant keywords</a></div><div class=\"lev2 toc-item\"><a href=\"#You-can-also-pass-in-lists-if-you-prefer-(though-you-can't-include-the-source-or-notes)\" data-toc-modified-id=\"You-can-also-pass-in-lists-if-you-prefer-(though-you-can't-include-the-source-or-notes)-47\"><span class=\"toc-item-num\">4.7&nbsp;&nbsp;</span>You can also pass in lists if you prefer (though you can't include the source or notes)</a></div>"
   ]
  },
  {
   "cell_type": "markdown",
   "metadata": {},
   "source": [
    "# Install the blockedonweibo package"
   ]
  },
  {
   "cell_type": "markdown",
   "metadata": {},
   "source": [
    "The github repo for this Weibo keyword testing script is located at https://github.com/jasonqng/blocked-on-weibo.\n",
    "\n",
    "To begin using this python package, inside your terminal, do a\n",
    "```\n",
    "git clone https://github.com/jasonqng/blocked-on-weibo.git\n",
    "```\n",
    "or \n",
    "\n",
    "```\n",
    "git clone git@github.com:jasonqng/blocked-on-weibo.git\n",
    "``` \n",
    "(if you prefer ssh)."
   ]
  },
  {
   "cell_type": "markdown",
   "metadata": {},
   "source": [
    "Then `cd` into the downloaded directory and install the requirements then the package:\n",
    "\n",
    "```\n",
    "pip install -r requirements.txt\n",
    "python setup.py install\n",
    "```\n",
    "\n",
    "To confirm the installation works, in a python shell (you can start by running `python` from terminal), try importing the package:\n",
    "\n",
    "```\n",
    "import blockedonweibo\n",
    "```\n",
    "\n",
    "If you don't get any errors, things have installed successfully. If not, you may need to fiddle with your python paths and settings to ensure it's being installed to the correct location."
   ]
  },
  {
   "cell_type": "markdown",
   "metadata": {},
   "source": [
    "# Adjust your settings"
   ]
  },
  {
   "cell_type": "markdown",
   "metadata": {},
   "source": [
    "Your python script only requires the following. All other imports are handled by the package."
   ]
  },
  {
   "cell_type": "code",
   "execution_count": 1,
   "metadata": {
    "ExecuteTime": {
     "end_time": "2017-09-25T14:12:05.848335Z",
     "start_time": "2017-09-25T10:12:04.257715-04:00"
    },
    "collapsed": true
   },
   "outputs": [],
   "source": [
    "from blockedonweibo import weibo\n",
    "import pandas as pd"
   ]
  },
  {
   "cell_type": "markdown",
   "metadata": {
    "ExecuteTime": {
     "end_time": "2017-09-25T05:52:41.564295Z",
     "start_time": "2017-09-25T01:52:41.558722-04:00"
    }
   },
   "source": [
    "You have the option of saving your test results to a file. You'll need to pass a path to to a file which will store the results in sqlite format. It can be helpful to set this at the top of your script and pass the variable each time you run the test."
   ]
  },
  {
   "cell_type": "code",
   "execution_count": 2,
   "metadata": {
    "ExecuteTime": {
     "end_time": "2017-09-25T14:12:05.857046Z",
     "start_time": "2017-09-25T10:12:05.851255-04:00"
    },
    "collapsed": true
   },
   "outputs": [],
   "source": [
    "sqlite_file = 'results.sqlite' # name of sqlite file to read from/write to"
   ]
  },
  {
   "cell_type": "markdown",
   "metadata": {},
   "source": [
    "If you want to erase any existing data you have in the sqlite file defined above, just pass overwrite=True to the `create_database` function. Otherwise any new results will be appended to the end of the database."
   ]
  },
  {
   "cell_type": "code",
   "execution_count": 3,
   "metadata": {
    "ExecuteTime": {
     "end_time": "2017-09-25T14:12:05.867320Z",
     "start_time": "2017-09-25T10:12:05.860135-04:00"
    },
    "collapsed": true
   },
   "outputs": [],
   "source": [
    "weibo.create_database(sqlite_file, overwrite=True)"
   ]
  },
  {
   "cell_type": "markdown",
   "metadata": {},
   "source": [
    "This testing script is enhanced if you allow it to log into Weibo, which increases your rate limit threshold as well as returns the number of results a search says it has. This script will work without your supplying credentials, but it is highly recommended. To do so, edit the `weibo_credentials.py` with your email address and password. The file is ignored and will not be uploaded by default when you push commits to github. You can inspect the code to verify that the credentials don't go anywhere except to weibo.\n",
    "\n",
    "Using those credentials, the script logs you in and fetches a cookie for the user session you create. This cookie can be saved to a file by passing the `write_cookie` parameter in the `user_login` function."
   ]
  },
  {
   "cell_type": "code",
   "execution_count": 4,
   "metadata": {
    "ExecuteTime": {
     "end_time": "2017-09-25T14:12:36.374219Z",
     "start_time": "2017-09-25T10:12:05.871282-04:00"
    },
    "collapsed": true
   },
   "outputs": [],
   "source": [
    "session = weibo.user_login(write_cookie=True)"
   ]
  },
  {
   "cell_type": "markdown",
   "metadata": {},
   "source": [
    "There is a helper function to verify that the cookie actually works"
   ]
  },
  {
   "cell_type": "code",
   "execution_count": 5,
   "metadata": {
    "ExecuteTime": {
     "end_time": "2017-09-25T14:12:39.976314Z",
     "start_time": "2017-09-25T10:12:36.376621-04:00"
    }
   },
   "outputs": [
    {
     "name": "stdout",
     "output_type": "stream",
     "text": [
      "True\n"
     ]
    }
   ],
   "source": [
    "cookie = session.cookies.get_dict()\n",
    "print(weibo.verify_cookies_work(cookie))"
   ]
  },
  {
   "cell_type": "markdown",
   "metadata": {},
   "source": [
    "If you have the cookie already written to disk, you don't need to perform another `user_login` and instead, you can just use the `load_cookies` function to fetch the cookie from the file. Again, you can verify that it works. Just store the cookie's contents (a dictionary) to a variable and pass that to the `run` function below if you want to test as if you were logged in. Otherwise, it will emulate a search by a logged out user."
   ]
  },
  {
   "cell_type": "code",
   "execution_count": 6,
   "metadata": {
    "ExecuteTime": {
     "end_time": "2017-09-25T14:12:41.597003Z",
     "start_time": "2017-09-25T10:12:39.979421-04:00"
    }
   },
   "outputs": [
    {
     "name": "stdout",
     "output_type": "stream",
     "text": [
      "True\n"
     ]
    }
   ],
   "source": [
    "cookie = weibo.load_cookies()\n",
    "print(weibo.verify_cookies_work(cookie))"
   ]
  },
  {
   "cell_type": "markdown",
   "metadata": {
    "ExecuteTime": {
     "end_time": "2017-09-25T04:05:51.265439Z",
     "start_time": "2017-09-25T00:05:51.262373-04:00"
    }
   },
   "source": [
    "# Let's start testing!"
   ]
  },
  {
   "cell_type": "markdown",
   "metadata": {},
   "source": [
    "## Pass a dictionary of keywords to start testing"
   ]
  },
  {
   "cell_type": "code",
   "execution_count": 7,
   "metadata": {
    "ExecuteTime": {
     "end_time": "2017-09-25T14:12:41.612849Z",
     "start_time": "2017-09-25T10:12:41.602391-04:00"
    },
    "collapsed": true
   },
   "outputs": [],
   "source": [
    "sample_keywords_df = pd.DataFrame(\n",
    "    [{'keyword':'hello','source':'my dataframe'},\n",
    "     {'keyword':'lxb','source':'my dataframe'},\n",
    "     {'keyword':u'习胞子','source':'my dataframe'}\n",
    "    ])"
   ]
  },
  {
   "cell_type": "code",
   "execution_count": 8,
   "metadata": {
    "ExecuteTime": {
     "end_time": "2017-09-25T14:12:41.671841Z",
     "start_time": "2017-09-25T10:12:41.615925-04:00"
    }
   },
   "outputs": [
    {
     "data": {
      "text/html": [
       "<div>\n",
       "<table border=\"1\" class=\"dataframe\">\n",
       "  <thead>\n",
       "    <tr style=\"text-align: right;\">\n",
       "      <th></th>\n",
       "      <th>keyword</th>\n",
       "      <th>source</th>\n",
       "    </tr>\n",
       "  </thead>\n",
       "  <tbody>\n",
       "    <tr>\n",
       "      <th>0</th>\n",
       "      <td>hello</td>\n",
       "      <td>my dataframe</td>\n",
       "    </tr>\n",
       "    <tr>\n",
       "      <th>1</th>\n",
       "      <td>lxb</td>\n",
       "      <td>my dataframe</td>\n",
       "    </tr>\n",
       "    <tr>\n",
       "      <th>2</th>\n",
       "      <td>习胞子</td>\n",
       "      <td>my dataframe</td>\n",
       "    </tr>\n",
       "  </tbody>\n",
       "</table>\n",
       "</div>"
      ],
      "text/plain": [
       "  keyword        source\n",
       "0   hello  my dataframe\n",
       "1     lxb  my dataframe\n",
       "2     习胞子  my dataframe"
      ]
     },
     "execution_count": 8,
     "metadata": {},
     "output_type": "execute_result"
    }
   ],
   "source": [
    "sample_keywords_df"
   ]
  },
  {
   "cell_type": "code",
   "execution_count": 9,
   "metadata": {
    "ExecuteTime": {
     "end_time": "2017-09-25T14:13:33.375644Z",
     "start_time": "2017-09-25T10:12:41.676859-04:00"
    }
   },
   "outputs": [
    {
     "name": "stdout",
     "output_type": "stream",
     "text": [
      "(0, u'hello', 'has_results')\n",
      "(1, u'lxb', 'censored')\n",
      "(2, u'\\u4e60\\u80de\\u5b50', 'no_results')\n"
     ]
    },
    {
     "data": {
      "text/html": [
       "<div>\n",
       "<table border=\"1\" class=\"dataframe\">\n",
       "  <thead>\n",
       "    <tr style=\"text-align: right;\">\n",
       "      <th></th>\n",
       "      <th>date</th>\n",
       "      <th>datetime</th>\n",
       "      <th>keyword</th>\n",
       "      <th>num_results</th>\n",
       "      <th>result</th>\n",
       "      <th>source</th>\n",
       "      <th>test_number</th>\n",
       "    </tr>\n",
       "  </thead>\n",
       "  <tbody>\n",
       "    <tr>\n",
       "      <th>0</th>\n",
       "      <td>2017-09-25</td>\n",
       "      <td>2017-09-25 10:12:45.280812</td>\n",
       "      <td>hello</td>\n",
       "      <td>[]</td>\n",
       "      <td>has_results</td>\n",
       "      <td>my dataframe</td>\n",
       "      <td>1</td>\n",
       "    </tr>\n",
       "    <tr>\n",
       "      <th>0</th>\n",
       "      <td>2017-09-25</td>\n",
       "      <td>2017-09-25 10:13:00.191900</td>\n",
       "      <td>lxb</td>\n",
       "      <td>None</td>\n",
       "      <td>censored</td>\n",
       "      <td>my dataframe</td>\n",
       "      <td>1</td>\n",
       "    </tr>\n",
       "    <tr>\n",
       "      <th>0</th>\n",
       "      <td>2017-09-25</td>\n",
       "      <td>2017-09-25 10:13:16.356805</td>\n",
       "      <td>习胞子</td>\n",
       "      <td>None</td>\n",
       "      <td>no_results</td>\n",
       "      <td>my dataframe</td>\n",
       "      <td>1</td>\n",
       "    </tr>\n",
       "  </tbody>\n",
       "</table>\n",
       "</div>"
      ],
      "text/plain": [
       "         date                   datetime keyword num_results       result  \\\n",
       "0  2017-09-25 2017-09-25 10:12:45.280812   hello          []  has_results   \n",
       "0  2017-09-25 2017-09-25 10:13:00.191900     lxb        None     censored   \n",
       "0  2017-09-25 2017-09-25 10:13:16.356805     习胞子        None   no_results   \n",
       "\n",
       "         source  test_number  \n",
       "0  my dataframe            1  \n",
       "0  my dataframe            1  \n",
       "0  my dataframe            1  "
      ]
     },
     "execution_count": 9,
     "metadata": {},
     "output_type": "execute_result"
    }
   ],
   "source": [
    "weibo.run(sample_keywords_df,insert=False,return_df=True)"
   ]
  },
  {
   "cell_type": "markdown",
   "metadata": {},
   "source": [
    "## Pass in cookies so you can also get the number of results. Pass in sqlite_file to save the results to disk so you can load it later"
   ]
  },
  {
   "cell_type": "code",
   "execution_count": 10,
   "metadata": {
    "ExecuteTime": {
     "end_time": "2017-09-25T14:14:28.499011Z",
     "start_time": "2017-09-25T10:13:33.378130-04:00"
    }
   },
   "outputs": [
    {
     "name": "stdout",
     "output_type": "stream",
     "text": [
      "(0, u'hello', 'has_results')\n",
      "(1, u'lxb', 'censored')\n",
      "(2, u'\\u4e60\\u80de\\u5b50', 'no_results')\n"
     ]
    }
   ],
   "source": [
    "weibo.run(sample_keywords_df,sqlite_file=sqlite_file,cookies=cookie)"
   ]
  },
  {
   "cell_type": "code",
   "execution_count": 11,
   "metadata": {
    "ExecuteTime": {
     "end_time": "2017-09-25T14:14:28.536523Z",
     "start_time": "2017-09-25T10:14:28.501037-04:00"
    }
   },
   "outputs": [
    {
     "data": {
      "text/html": [
       "<div>\n",
       "<table border=\"1\" class=\"dataframe\">\n",
       "  <thead>\n",
       "    <tr style=\"text-align: right;\">\n",
       "      <th></th>\n",
       "      <th>id</th>\n",
       "      <th>date</th>\n",
       "      <th>datetime_logged</th>\n",
       "      <th>test_number</th>\n",
       "      <th>keyword</th>\n",
       "      <th>censored</th>\n",
       "      <th>no_results</th>\n",
       "      <th>reset</th>\n",
       "      <th>result</th>\n",
       "      <th>source</th>\n",
       "      <th>num_results</th>\n",
       "      <th>notes</th>\n",
       "    </tr>\n",
       "  </thead>\n",
       "  <tbody>\n",
       "    <tr>\n",
       "      <th>0</th>\n",
       "      <td>0</td>\n",
       "      <td>2017-09-25</td>\n",
       "      <td>2017-09-25 10:13:37.816720</td>\n",
       "      <td>1</td>\n",
       "      <td>hello</td>\n",
       "      <td>0</td>\n",
       "      <td>0</td>\n",
       "      <td>0</td>\n",
       "      <td>has_results</td>\n",
       "      <td>my dataframe</td>\n",
       "      <td>80454701.0</td>\n",
       "      <td>None</td>\n",
       "    </tr>\n",
       "    <tr>\n",
       "      <th>1</th>\n",
       "      <td>1</td>\n",
       "      <td>2017-09-25</td>\n",
       "      <td>2017-09-25 10:13:54.356722</td>\n",
       "      <td>1</td>\n",
       "      <td>lxb</td>\n",
       "      <td>0</td>\n",
       "      <td>0</td>\n",
       "      <td>0</td>\n",
       "      <td>censored</td>\n",
       "      <td>my dataframe</td>\n",
       "      <td>NaN</td>\n",
       "      <td>None</td>\n",
       "    </tr>\n",
       "    <tr>\n",
       "      <th>2</th>\n",
       "      <td>2</td>\n",
       "      <td>2017-09-25</td>\n",
       "      <td>2017-09-25 10:14:11.489530</td>\n",
       "      <td>1</td>\n",
       "      <td>习胞子</td>\n",
       "      <td>0</td>\n",
       "      <td>0</td>\n",
       "      <td>0</td>\n",
       "      <td>no_results</td>\n",
       "      <td>my dataframe</td>\n",
       "      <td>NaN</td>\n",
       "      <td>None</td>\n",
       "    </tr>\n",
       "  </tbody>\n",
       "</table>\n",
       "</div>"
      ],
      "text/plain": [
       "   id        date             datetime_logged  test_number keyword  censored  \\\n",
       "0   0  2017-09-25  2017-09-25 10:13:37.816720            1   hello         0   \n",
       "1   1  2017-09-25  2017-09-25 10:13:54.356722            1     lxb         0   \n",
       "2   2  2017-09-25  2017-09-25 10:14:11.489530            1     习胞子         0   \n",
       "\n",
       "   no_results  reset       result        source  num_results notes  \n",
       "0           0      0  has_results  my dataframe   80454701.0  None  \n",
       "1           0      0     censored  my dataframe          NaN  None  \n",
       "2           0      0   no_results  my dataframe          NaN  None  "
      ]
     },
     "execution_count": 11,
     "metadata": {},
     "output_type": "execute_result"
    }
   ],
   "source": [
    "weibo.sqlite_to_df(sqlite_file)"
   ]
  },
  {
   "cell_type": "markdown",
   "metadata": {},
   "source": [
    "## If your test gets interrupted or you add more keywords, you can pick up where you left off"
   ]
  },
  {
   "cell_type": "markdown",
   "metadata": {},
   "source": [
    "Let's pretend I wanted to test four total keywords, but I was only able to complete the first three above. I'll go ahead and add one more keyword to the test list to replicate an unfinished keyword."
   ]
  },
  {
   "cell_type": "code",
   "execution_count": 12,
   "metadata": {
    "ExecuteTime": {
     "end_time": "2017-09-25T14:14:28.548981Z",
     "start_time": "2017-09-25T10:14:28.540322-04:00"
    },
    "collapsed": true
   },
   "outputs": [],
   "source": [
    "sample_keywords_df.loc[len(sample_keywords_df.index)] = ['刘晓波','my dataframe']"
   ]
  },
  {
   "cell_type": "code",
   "execution_count": 13,
   "metadata": {
    "ExecuteTime": {
     "end_time": "2017-09-25T14:14:28.564925Z",
     "start_time": "2017-09-25T10:14:28.551999-04:00"
    }
   },
   "outputs": [
    {
     "data": {
      "text/html": [
       "<div>\n",
       "<table border=\"1\" class=\"dataframe\">\n",
       "  <thead>\n",
       "    <tr style=\"text-align: right;\">\n",
       "      <th></th>\n",
       "      <th>keyword</th>\n",
       "      <th>source</th>\n",
       "    </tr>\n",
       "  </thead>\n",
       "  <tbody>\n",
       "    <tr>\n",
       "      <th>0</th>\n",
       "      <td>hello</td>\n",
       "      <td>my dataframe</td>\n",
       "    </tr>\n",
       "    <tr>\n",
       "      <th>1</th>\n",
       "      <td>lxb</td>\n",
       "      <td>my dataframe</td>\n",
       "    </tr>\n",
       "    <tr>\n",
       "      <th>2</th>\n",
       "      <td>习胞子</td>\n",
       "      <td>my dataframe</td>\n",
       "    </tr>\n",
       "    <tr>\n",
       "      <th>3</th>\n",
       "      <td>刘晓波</td>\n",
       "      <td>my dataframe</td>\n",
       "    </tr>\n",
       "  </tbody>\n",
       "</table>\n",
       "</div>"
      ],
      "text/plain": [
       "  keyword        source\n",
       "0   hello  my dataframe\n",
       "1     lxb  my dataframe\n",
       "2     习胞子  my dataframe\n",
       "3     刘晓波  my dataframe"
      ]
     },
     "execution_count": 13,
     "metadata": {},
     "output_type": "execute_result"
    }
   ],
   "source": [
    "sample_keywords_df"
   ]
  },
  {
   "cell_type": "code",
   "execution_count": 14,
   "metadata": {
    "ExecuteTime": {
     "end_time": "2017-09-25T14:14:46.677246Z",
     "start_time": "2017-09-25T10:14:28.567846-04:00"
    }
   },
   "outputs": [
    {
     "name": "stdout",
     "output_type": "stream",
     "text": [
      "(3, u'\\u5218\\u6653\\u6ce2', 'censored')\n"
     ]
    }
   ],
   "source": [
    "weibo.run(sample_keywords_df,sqlite_file=sqlite_file,cookies=cookie)"
   ]
  },
  {
   "cell_type": "markdown",
   "metadata": {},
   "source": [
    "Neat-o, it was smart enough to start right at that new keyword and not start all over again!"
   ]
  },
  {
   "cell_type": "code",
   "execution_count": 15,
   "metadata": {
    "ExecuteTime": {
     "end_time": "2017-09-25T14:14:46.710233Z",
     "start_time": "2017-09-25T10:14:46.679941-04:00"
    }
   },
   "outputs": [
    {
     "data": {
      "text/html": [
       "<div>\n",
       "<table border=\"1\" class=\"dataframe\">\n",
       "  <thead>\n",
       "    <tr style=\"text-align: right;\">\n",
       "      <th></th>\n",
       "      <th>id</th>\n",
       "      <th>date</th>\n",
       "      <th>datetime_logged</th>\n",
       "      <th>test_number</th>\n",
       "      <th>keyword</th>\n",
       "      <th>censored</th>\n",
       "      <th>no_results</th>\n",
       "      <th>reset</th>\n",
       "      <th>result</th>\n",
       "      <th>source</th>\n",
       "      <th>num_results</th>\n",
       "      <th>notes</th>\n",
       "    </tr>\n",
       "  </thead>\n",
       "  <tbody>\n",
       "    <tr>\n",
       "      <th>0</th>\n",
       "      <td>0</td>\n",
       "      <td>2017-09-25</td>\n",
       "      <td>2017-09-25 10:13:37.816720</td>\n",
       "      <td>1</td>\n",
       "      <td>hello</td>\n",
       "      <td>0</td>\n",
       "      <td>0</td>\n",
       "      <td>0</td>\n",
       "      <td>has_results</td>\n",
       "      <td>my dataframe</td>\n",
       "      <td>80454701.0</td>\n",
       "      <td>None</td>\n",
       "    </tr>\n",
       "    <tr>\n",
       "      <th>1</th>\n",
       "      <td>1</td>\n",
       "      <td>2017-09-25</td>\n",
       "      <td>2017-09-25 10:13:54.356722</td>\n",
       "      <td>1</td>\n",
       "      <td>lxb</td>\n",
       "      <td>0</td>\n",
       "      <td>0</td>\n",
       "      <td>0</td>\n",
       "      <td>censored</td>\n",
       "      <td>my dataframe</td>\n",
       "      <td>NaN</td>\n",
       "      <td>None</td>\n",
       "    </tr>\n",
       "    <tr>\n",
       "      <th>2</th>\n",
       "      <td>2</td>\n",
       "      <td>2017-09-25</td>\n",
       "      <td>2017-09-25 10:14:11.489530</td>\n",
       "      <td>1</td>\n",
       "      <td>习胞子</td>\n",
       "      <td>0</td>\n",
       "      <td>0</td>\n",
       "      <td>0</td>\n",
       "      <td>no_results</td>\n",
       "      <td>my dataframe</td>\n",
       "      <td>NaN</td>\n",
       "      <td>None</td>\n",
       "    </tr>\n",
       "    <tr>\n",
       "      <th>3</th>\n",
       "      <td>3</td>\n",
       "      <td>2017-09-25</td>\n",
       "      <td>2017-09-25 10:14:29.667395</td>\n",
       "      <td>1</td>\n",
       "      <td>刘晓波</td>\n",
       "      <td>0</td>\n",
       "      <td>0</td>\n",
       "      <td>0</td>\n",
       "      <td>censored</td>\n",
       "      <td>my dataframe</td>\n",
       "      <td>NaN</td>\n",
       "      <td>None</td>\n",
       "    </tr>\n",
       "  </tbody>\n",
       "</table>\n",
       "</div>"
      ],
      "text/plain": [
       "   id        date             datetime_logged  test_number keyword  censored  \\\n",
       "0   0  2017-09-25  2017-09-25 10:13:37.816720            1   hello         0   \n",
       "1   1  2017-09-25  2017-09-25 10:13:54.356722            1     lxb         0   \n",
       "2   2  2017-09-25  2017-09-25 10:14:11.489530            1     习胞子         0   \n",
       "3   3  2017-09-25  2017-09-25 10:14:29.667395            1     刘晓波         0   \n",
       "\n",
       "   no_results  reset       result        source  num_results notes  \n",
       "0           0      0  has_results  my dataframe   80454701.0  None  \n",
       "1           0      0     censored  my dataframe          NaN  None  \n",
       "2           0      0   no_results  my dataframe          NaN  None  \n",
       "3           0      0     censored  my dataframe          NaN  None  "
      ]
     },
     "execution_count": 15,
     "metadata": {},
     "output_type": "execute_result"
    }
   ],
   "source": [
    "weibo.sqlite_to_df(sqlite_file)"
   ]
  },
  {
   "cell_type": "markdown",
   "metadata": {},
   "source": [
    "## You can attach notes or categorizations to your keywords for easy querying and analysis later"
   ]
  },
  {
   "cell_type": "code",
   "execution_count": 16,
   "metadata": {
    "ExecuteTime": {
     "end_time": "2017-09-25T14:14:46.736132Z",
     "start_time": "2017-09-25T10:14:46.713017-04:00"
    }
   },
   "outputs": [
    {
     "data": {
      "text/html": [
       "<div>\n",
       "<table border=\"1\" class=\"dataframe\">\n",
       "  <thead>\n",
       "    <tr style=\"text-align: right;\">\n",
       "      <th></th>\n",
       "      <th>keyword</th>\n",
       "      <th>notes</th>\n",
       "      <th>source</th>\n",
       "    </tr>\n",
       "  </thead>\n",
       "  <tbody>\n",
       "    <tr>\n",
       "      <th>0</th>\n",
       "      <td>hello</td>\n",
       "      <td>NaN</td>\n",
       "      <td>my dataframe</td>\n",
       "    </tr>\n",
       "    <tr>\n",
       "      <th>1</th>\n",
       "      <td>lxb</td>\n",
       "      <td>NaN</td>\n",
       "      <td>my dataframe</td>\n",
       "    </tr>\n",
       "    <tr>\n",
       "      <th>2</th>\n",
       "      <td>习胞子</td>\n",
       "      <td>NaN</td>\n",
       "      <td>my dataframe</td>\n",
       "    </tr>\n",
       "    <tr>\n",
       "      <th>3</th>\n",
       "      <td>刘晓波</td>\n",
       "      <td>NaN</td>\n",
       "      <td>my dataframe</td>\n",
       "    </tr>\n",
       "    <tr>\n",
       "      <th>4</th>\n",
       "      <td>pokemon</td>\n",
       "      <td>pop culture</td>\n",
       "      <td>my dataframe</td>\n",
       "    </tr>\n",
       "    <tr>\n",
       "      <th>5</th>\n",
       "      <td>jay chou</td>\n",
       "      <td>pop culture</td>\n",
       "      <td>my dataframe</td>\n",
       "    </tr>\n",
       "    <tr>\n",
       "      <th>6</th>\n",
       "      <td>weibo</td>\n",
       "      <td>social media</td>\n",
       "      <td>my dataframe</td>\n",
       "    </tr>\n",
       "  </tbody>\n",
       "</table>\n",
       "</div>"
      ],
      "text/plain": [
       "    keyword         notes        source\n",
       "0     hello           NaN  my dataframe\n",
       "1       lxb           NaN  my dataframe\n",
       "2       习胞子           NaN  my dataframe\n",
       "3       刘晓波           NaN  my dataframe\n",
       "4   pokemon   pop culture  my dataframe\n",
       "5  jay chou   pop culture  my dataframe\n",
       "6     weibo  social media  my dataframe"
      ]
     },
     "execution_count": 16,
     "metadata": {},
     "output_type": "execute_result"
    }
   ],
   "source": [
    "new_keywords_df = pd.DataFrame(\n",
    "    [{'keyword':'pokemon','source':'my dataframe',\"notes\":\"pop culture\"},\n",
    "     {'keyword':'jay chou','source':'my dataframe',\"notes\":\"pop culture\"},\n",
    "     {'keyword':u'weibo','source':'my dataframe',\"notes\":\"social media\"}\n",
    "    ])\n",
    "merged_keywords_df = pd.concat([sample_keywords_df,new_keywords_df]).reset_index(drop=True)\n",
    "merged_keywords_df"
   ]
  },
  {
   "cell_type": "code",
   "execution_count": 17,
   "metadata": {
    "ExecuteTime": {
     "end_time": "2017-09-25T14:15:43.114198Z",
     "start_time": "2017-09-25T10:14:46.739371-04:00"
    }
   },
   "outputs": [
    {
     "name": "stdout",
     "output_type": "stream",
     "text": [
      "(4, u'pokemon', 'has_results')\n",
      "(5, u'jay chou', 'has_results')\n",
      "(6, u'weibo', 'has_results')\n"
     ]
    }
   ],
   "source": [
    "weibo.run(merged_keywords_df,sqlite_file=sqlite_file,cookies=cookie)"
   ]
  },
  {
   "cell_type": "code",
   "execution_count": 18,
   "metadata": {
    "ExecuteTime": {
     "end_time": "2017-09-25T14:15:43.164806Z",
     "start_time": "2017-09-25T10:15:43.116666-04:00"
    }
   },
   "outputs": [
    {
     "data": {
      "text/html": [
       "<div>\n",
       "<table border=\"1\" class=\"dataframe\">\n",
       "  <thead>\n",
       "    <tr style=\"text-align: right;\">\n",
       "      <th></th>\n",
       "      <th>id</th>\n",
       "      <th>date</th>\n",
       "      <th>datetime_logged</th>\n",
       "      <th>test_number</th>\n",
       "      <th>keyword</th>\n",
       "      <th>censored</th>\n",
       "      <th>no_results</th>\n",
       "      <th>reset</th>\n",
       "      <th>result</th>\n",
       "      <th>source</th>\n",
       "      <th>num_results</th>\n",
       "      <th>notes</th>\n",
       "    </tr>\n",
       "  </thead>\n",
       "  <tbody>\n",
       "    <tr>\n",
       "      <th>0</th>\n",
       "      <td>0</td>\n",
       "      <td>2017-09-25</td>\n",
       "      <td>2017-09-25 10:13:37.816720</td>\n",
       "      <td>1</td>\n",
       "      <td>hello</td>\n",
       "      <td>0</td>\n",
       "      <td>0</td>\n",
       "      <td>0</td>\n",
       "      <td>has_results</td>\n",
       "      <td>my dataframe</td>\n",
       "      <td>80454701.0</td>\n",
       "      <td>None</td>\n",
       "    </tr>\n",
       "    <tr>\n",
       "      <th>1</th>\n",
       "      <td>1</td>\n",
       "      <td>2017-09-25</td>\n",
       "      <td>2017-09-25 10:13:54.356722</td>\n",
       "      <td>1</td>\n",
       "      <td>lxb</td>\n",
       "      <td>0</td>\n",
       "      <td>0</td>\n",
       "      <td>0</td>\n",
       "      <td>censored</td>\n",
       "      <td>my dataframe</td>\n",
       "      <td>NaN</td>\n",
       "      <td>None</td>\n",
       "    </tr>\n",
       "    <tr>\n",
       "      <th>2</th>\n",
       "      <td>2</td>\n",
       "      <td>2017-09-25</td>\n",
       "      <td>2017-09-25 10:14:11.489530</td>\n",
       "      <td>1</td>\n",
       "      <td>习胞子</td>\n",
       "      <td>0</td>\n",
       "      <td>0</td>\n",
       "      <td>0</td>\n",
       "      <td>no_results</td>\n",
       "      <td>my dataframe</td>\n",
       "      <td>NaN</td>\n",
       "      <td>None</td>\n",
       "    </tr>\n",
       "    <tr>\n",
       "      <th>3</th>\n",
       "      <td>3</td>\n",
       "      <td>2017-09-25</td>\n",
       "      <td>2017-09-25 10:14:29.667395</td>\n",
       "      <td>1</td>\n",
       "      <td>刘晓波</td>\n",
       "      <td>0</td>\n",
       "      <td>0</td>\n",
       "      <td>0</td>\n",
       "      <td>censored</td>\n",
       "      <td>my dataframe</td>\n",
       "      <td>NaN</td>\n",
       "      <td>None</td>\n",
       "    </tr>\n",
       "    <tr>\n",
       "      <th>4</th>\n",
       "      <td>4</td>\n",
       "      <td>2017-09-25</td>\n",
       "      <td>2017-09-25 10:14:49.107078</td>\n",
       "      <td>1</td>\n",
       "      <td>pokemon</td>\n",
       "      <td>0</td>\n",
       "      <td>0</td>\n",
       "      <td>0</td>\n",
       "      <td>has_results</td>\n",
       "      <td>my dataframe</td>\n",
       "      <td>5705260.0</td>\n",
       "      <td>pop culture</td>\n",
       "    </tr>\n",
       "    <tr>\n",
       "      <th>5</th>\n",
       "      <td>5</td>\n",
       "      <td>2017-09-25</td>\n",
       "      <td>2017-09-25 10:15:09.762484</td>\n",
       "      <td>1</td>\n",
       "      <td>jay chou</td>\n",
       "      <td>0</td>\n",
       "      <td>0</td>\n",
       "      <td>0</td>\n",
       "      <td>has_results</td>\n",
       "      <td>my dataframe</td>\n",
       "      <td>881.0</td>\n",
       "      <td>pop culture</td>\n",
       "    </tr>\n",
       "    <tr>\n",
       "      <th>6</th>\n",
       "      <td>6</td>\n",
       "      <td>2017-09-25</td>\n",
       "      <td>2017-09-25 10:15:28.100418</td>\n",
       "      <td>1</td>\n",
       "      <td>weibo</td>\n",
       "      <td>0</td>\n",
       "      <td>0</td>\n",
       "      <td>0</td>\n",
       "      <td>has_results</td>\n",
       "      <td>my dataframe</td>\n",
       "      <td>63401495.0</td>\n",
       "      <td>social media</td>\n",
       "    </tr>\n",
       "  </tbody>\n",
       "</table>\n",
       "</div>"
      ],
      "text/plain": [
       "   id        date             datetime_logged  test_number   keyword  \\\n",
       "0   0  2017-09-25  2017-09-25 10:13:37.816720            1     hello   \n",
       "1   1  2017-09-25  2017-09-25 10:13:54.356722            1       lxb   \n",
       "2   2  2017-09-25  2017-09-25 10:14:11.489530            1       习胞子   \n",
       "3   3  2017-09-25  2017-09-25 10:14:29.667395            1       刘晓波   \n",
       "4   4  2017-09-25  2017-09-25 10:14:49.107078            1   pokemon   \n",
       "5   5  2017-09-25  2017-09-25 10:15:09.762484            1  jay chou   \n",
       "6   6  2017-09-25  2017-09-25 10:15:28.100418            1     weibo   \n",
       "\n",
       "   censored  no_results  reset       result        source  num_results  \\\n",
       "0         0           0      0  has_results  my dataframe   80454701.0   \n",
       "1         0           0      0     censored  my dataframe          NaN   \n",
       "2         0           0      0   no_results  my dataframe          NaN   \n",
       "3         0           0      0     censored  my dataframe          NaN   \n",
       "4         0           0      0  has_results  my dataframe    5705260.0   \n",
       "5         0           0      0  has_results  my dataframe        881.0   \n",
       "6         0           0      0  has_results  my dataframe   63401495.0   \n",
       "\n",
       "          notes  \n",
       "0          None  \n",
       "1          None  \n",
       "2          None  \n",
       "3          None  \n",
       "4   pop culture  \n",
       "5   pop culture  \n",
       "6  social media  "
      ]
     },
     "execution_count": 18,
     "metadata": {},
     "output_type": "execute_result"
    }
   ],
   "source": [
    "weibo.sqlite_to_df(sqlite_file)"
   ]
  },
  {
   "cell_type": "code",
   "execution_count": 19,
   "metadata": {
    "ExecuteTime": {
     "end_time": "2017-09-25T14:15:43.203135Z",
     "start_time": "2017-09-25T10:15:43.167926-04:00"
    }
   },
   "outputs": [
    {
     "data": {
      "text/html": [
       "<div>\n",
       "<table border=\"1\" class=\"dataframe\">\n",
       "  <thead>\n",
       "    <tr style=\"text-align: right;\">\n",
       "      <th></th>\n",
       "      <th>id</th>\n",
       "      <th>date</th>\n",
       "      <th>datetime_logged</th>\n",
       "      <th>test_number</th>\n",
       "      <th>keyword</th>\n",
       "      <th>censored</th>\n",
       "      <th>no_results</th>\n",
       "      <th>reset</th>\n",
       "      <th>result</th>\n",
       "      <th>source</th>\n",
       "      <th>num_results</th>\n",
       "      <th>notes</th>\n",
       "    </tr>\n",
       "  </thead>\n",
       "  <tbody>\n",
       "    <tr>\n",
       "      <th>4</th>\n",
       "      <td>4</td>\n",
       "      <td>2017-09-25</td>\n",
       "      <td>2017-09-25 10:14:49.107078</td>\n",
       "      <td>1</td>\n",
       "      <td>pokemon</td>\n",
       "      <td>0</td>\n",
       "      <td>0</td>\n",
       "      <td>0</td>\n",
       "      <td>has_results</td>\n",
       "      <td>my dataframe</td>\n",
       "      <td>5705260.0</td>\n",
       "      <td>pop culture</td>\n",
       "    </tr>\n",
       "    <tr>\n",
       "      <th>5</th>\n",
       "      <td>5</td>\n",
       "      <td>2017-09-25</td>\n",
       "      <td>2017-09-25 10:15:09.762484</td>\n",
       "      <td>1</td>\n",
       "      <td>jay chou</td>\n",
       "      <td>0</td>\n",
       "      <td>0</td>\n",
       "      <td>0</td>\n",
       "      <td>has_results</td>\n",
       "      <td>my dataframe</td>\n",
       "      <td>881.0</td>\n",
       "      <td>pop culture</td>\n",
       "    </tr>\n",
       "  </tbody>\n",
       "</table>\n",
       "</div>"
      ],
      "text/plain": [
       "   id        date             datetime_logged  test_number   keyword  \\\n",
       "4   4  2017-09-25  2017-09-25 10:14:49.107078            1   pokemon   \n",
       "5   5  2017-09-25  2017-09-25 10:15:09.762484            1  jay chou   \n",
       "\n",
       "   censored  no_results  reset       result        source  num_results  \\\n",
       "4         0           0      0  has_results  my dataframe    5705260.0   \n",
       "5         0           0      0  has_results  my dataframe        881.0   \n",
       "\n",
       "         notes  \n",
       "4  pop culture  \n",
       "5  pop culture  "
      ]
     },
     "execution_count": 19,
     "metadata": {},
     "output_type": "execute_result"
    }
   ],
   "source": [
    "results = weibo.sqlite_to_df(sqlite_file)\n",
    "results.query(\"notes=='pop culture'\")"
   ]
  },
  {
   "cell_type": "code",
   "execution_count": 20,
   "metadata": {
    "ExecuteTime": {
     "end_time": "2017-09-25T14:15:43.220709Z",
     "start_time": "2017-09-25T10:15:43.206290-04:00"
    }
   },
   "outputs": [
    {
     "data": {
      "text/plain": [
       "2853070.5"
      ]
     },
     "execution_count": 20,
     "metadata": {},
     "output_type": "execute_result"
    }
   ],
   "source": [
    "results.query(\"notes=='pop culture'\").num_results.mean()"
   ]
  },
  {
   "cell_type": "markdown",
   "metadata": {},
   "source": [
    "## If you want to test multiple times a day, just pass in the `test_number` param"
   ]
  },
  {
   "cell_type": "markdown",
   "metadata": {},
   "source": [
    "You can off `verbose` output in case you don't need to troubleshoot anything..."
   ]
  },
  {
   "cell_type": "code",
   "execution_count": 21,
   "metadata": {
    "ExecuteTime": {
     "end_time": "2017-09-25T14:16:52.032717Z",
     "start_time": "2017-09-25T10:15:43.224333-04:00"
    },
    "collapsed": true
   },
   "outputs": [],
   "source": [
    "weibo.run(sample_keywords_df,sqlite_file=sqlite_file,cookies=cookie,verbose='none',test_number=2)"
   ]
  },
  {
   "cell_type": "code",
   "execution_count": 22,
   "metadata": {
    "ExecuteTime": {
     "end_time": "2017-09-25T14:16:52.085176Z",
     "start_time": "2017-09-25T10:16:52.035407-04:00"
    }
   },
   "outputs": [
    {
     "data": {
      "text/html": [
       "<div>\n",
       "<table border=\"1\" class=\"dataframe\">\n",
       "  <thead>\n",
       "    <tr style=\"text-align: right;\">\n",
       "      <th></th>\n",
       "      <th>id</th>\n",
       "      <th>date</th>\n",
       "      <th>datetime_logged</th>\n",
       "      <th>test_number</th>\n",
       "      <th>keyword</th>\n",
       "      <th>censored</th>\n",
       "      <th>no_results</th>\n",
       "      <th>reset</th>\n",
       "      <th>result</th>\n",
       "      <th>source</th>\n",
       "      <th>num_results</th>\n",
       "      <th>notes</th>\n",
       "    </tr>\n",
       "  </thead>\n",
       "  <tbody>\n",
       "    <tr>\n",
       "      <th>0</th>\n",
       "      <td>0</td>\n",
       "      <td>2017-09-25</td>\n",
       "      <td>2017-09-25 10:13:37.816720</td>\n",
       "      <td>1</td>\n",
       "      <td>hello</td>\n",
       "      <td>0</td>\n",
       "      <td>0</td>\n",
       "      <td>0</td>\n",
       "      <td>has_results</td>\n",
       "      <td>my dataframe</td>\n",
       "      <td>80454701.0</td>\n",
       "      <td>None</td>\n",
       "    </tr>\n",
       "    <tr>\n",
       "      <th>1</th>\n",
       "      <td>1</td>\n",
       "      <td>2017-09-25</td>\n",
       "      <td>2017-09-25 10:13:54.356722</td>\n",
       "      <td>1</td>\n",
       "      <td>lxb</td>\n",
       "      <td>0</td>\n",
       "      <td>0</td>\n",
       "      <td>0</td>\n",
       "      <td>censored</td>\n",
       "      <td>my dataframe</td>\n",
       "      <td>NaN</td>\n",
       "      <td>None</td>\n",
       "    </tr>\n",
       "    <tr>\n",
       "      <th>2</th>\n",
       "      <td>2</td>\n",
       "      <td>2017-09-25</td>\n",
       "      <td>2017-09-25 10:14:11.489530</td>\n",
       "      <td>1</td>\n",
       "      <td>习胞子</td>\n",
       "      <td>0</td>\n",
       "      <td>0</td>\n",
       "      <td>0</td>\n",
       "      <td>no_results</td>\n",
       "      <td>my dataframe</td>\n",
       "      <td>NaN</td>\n",
       "      <td>None</td>\n",
       "    </tr>\n",
       "    <tr>\n",
       "      <th>3</th>\n",
       "      <td>3</td>\n",
       "      <td>2017-09-25</td>\n",
       "      <td>2017-09-25 10:14:29.667395</td>\n",
       "      <td>1</td>\n",
       "      <td>刘晓波</td>\n",
       "      <td>0</td>\n",
       "      <td>0</td>\n",
       "      <td>0</td>\n",
       "      <td>censored</td>\n",
       "      <td>my dataframe</td>\n",
       "      <td>NaN</td>\n",
       "      <td>None</td>\n",
       "    </tr>\n",
       "    <tr>\n",
       "      <th>4</th>\n",
       "      <td>4</td>\n",
       "      <td>2017-09-25</td>\n",
       "      <td>2017-09-25 10:14:49.107078</td>\n",
       "      <td>1</td>\n",
       "      <td>pokemon</td>\n",
       "      <td>0</td>\n",
       "      <td>0</td>\n",
       "      <td>0</td>\n",
       "      <td>has_results</td>\n",
       "      <td>my dataframe</td>\n",
       "      <td>5705260.0</td>\n",
       "      <td>pop culture</td>\n",
       "    </tr>\n",
       "    <tr>\n",
       "      <th>5</th>\n",
       "      <td>5</td>\n",
       "      <td>2017-09-25</td>\n",
       "      <td>2017-09-25 10:15:09.762484</td>\n",
       "      <td>1</td>\n",
       "      <td>jay chou</td>\n",
       "      <td>0</td>\n",
       "      <td>0</td>\n",
       "      <td>0</td>\n",
       "      <td>has_results</td>\n",
       "      <td>my dataframe</td>\n",
       "      <td>881.0</td>\n",
       "      <td>pop culture</td>\n",
       "    </tr>\n",
       "    <tr>\n",
       "      <th>6</th>\n",
       "      <td>6</td>\n",
       "      <td>2017-09-25</td>\n",
       "      <td>2017-09-25 10:15:28.100418</td>\n",
       "      <td>1</td>\n",
       "      <td>weibo</td>\n",
       "      <td>0</td>\n",
       "      <td>0</td>\n",
       "      <td>0</td>\n",
       "      <td>has_results</td>\n",
       "      <td>my dataframe</td>\n",
       "      <td>63401495.0</td>\n",
       "      <td>social media</td>\n",
       "    </tr>\n",
       "    <tr>\n",
       "      <th>7</th>\n",
       "      <td>7</td>\n",
       "      <td>2017-09-25</td>\n",
       "      <td>2017-09-25 10:15:46.214464</td>\n",
       "      <td>2</td>\n",
       "      <td>hello</td>\n",
       "      <td>0</td>\n",
       "      <td>0</td>\n",
       "      <td>0</td>\n",
       "      <td>has_results</td>\n",
       "      <td>my dataframe</td>\n",
       "      <td>80454634.0</td>\n",
       "      <td>None</td>\n",
       "    </tr>\n",
       "    <tr>\n",
       "      <th>8</th>\n",
       "      <td>8</td>\n",
       "      <td>2017-09-25</td>\n",
       "      <td>2017-09-25 10:16:03.274804</td>\n",
       "      <td>2</td>\n",
       "      <td>lxb</td>\n",
       "      <td>0</td>\n",
       "      <td>0</td>\n",
       "      <td>0</td>\n",
       "      <td>censored</td>\n",
       "      <td>my dataframe</td>\n",
       "      <td>NaN</td>\n",
       "      <td>None</td>\n",
       "    </tr>\n",
       "    <tr>\n",
       "      <th>9</th>\n",
       "      <td>9</td>\n",
       "      <td>2017-09-25</td>\n",
       "      <td>2017-09-25 10:16:19.035805</td>\n",
       "      <td>2</td>\n",
       "      <td>习胞子</td>\n",
       "      <td>0</td>\n",
       "      <td>0</td>\n",
       "      <td>0</td>\n",
       "      <td>no_results</td>\n",
       "      <td>my dataframe</td>\n",
       "      <td>NaN</td>\n",
       "      <td>None</td>\n",
       "    </tr>\n",
       "    <tr>\n",
       "      <th>10</th>\n",
       "      <td>10</td>\n",
       "      <td>2017-09-25</td>\n",
       "      <td>2017-09-25 10:16:36.021837</td>\n",
       "      <td>2</td>\n",
       "      <td>刘晓波</td>\n",
       "      <td>0</td>\n",
       "      <td>0</td>\n",
       "      <td>0</td>\n",
       "      <td>censored</td>\n",
       "      <td>my dataframe</td>\n",
       "      <td>NaN</td>\n",
       "      <td>None</td>\n",
       "    </tr>\n",
       "  </tbody>\n",
       "</table>\n",
       "</div>"
      ],
      "text/plain": [
       "    id        date             datetime_logged  test_number   keyword  \\\n",
       "0    0  2017-09-25  2017-09-25 10:13:37.816720            1     hello   \n",
       "1    1  2017-09-25  2017-09-25 10:13:54.356722            1       lxb   \n",
       "2    2  2017-09-25  2017-09-25 10:14:11.489530            1       习胞子   \n",
       "3    3  2017-09-25  2017-09-25 10:14:29.667395            1       刘晓波   \n",
       "4    4  2017-09-25  2017-09-25 10:14:49.107078            1   pokemon   \n",
       "5    5  2017-09-25  2017-09-25 10:15:09.762484            1  jay chou   \n",
       "6    6  2017-09-25  2017-09-25 10:15:28.100418            1     weibo   \n",
       "7    7  2017-09-25  2017-09-25 10:15:46.214464            2     hello   \n",
       "8    8  2017-09-25  2017-09-25 10:16:03.274804            2       lxb   \n",
       "9    9  2017-09-25  2017-09-25 10:16:19.035805            2       习胞子   \n",
       "10  10  2017-09-25  2017-09-25 10:16:36.021837            2       刘晓波   \n",
       "\n",
       "    censored  no_results  reset       result        source  num_results  \\\n",
       "0          0           0      0  has_results  my dataframe   80454701.0   \n",
       "1          0           0      0     censored  my dataframe          NaN   \n",
       "2          0           0      0   no_results  my dataframe          NaN   \n",
       "3          0           0      0     censored  my dataframe          NaN   \n",
       "4          0           0      0  has_results  my dataframe    5705260.0   \n",
       "5          0           0      0  has_results  my dataframe        881.0   \n",
       "6          0           0      0  has_results  my dataframe   63401495.0   \n",
       "7          0           0      0  has_results  my dataframe   80454634.0   \n",
       "8          0           0      0     censored  my dataframe          NaN   \n",
       "9          0           0      0   no_results  my dataframe          NaN   \n",
       "10         0           0      0     censored  my dataframe          NaN   \n",
       "\n",
       "           notes  \n",
       "0           None  \n",
       "1           None  \n",
       "2           None  \n",
       "3           None  \n",
       "4    pop culture  \n",
       "5    pop culture  \n",
       "6   social media  \n",
       "7           None  \n",
       "8           None  \n",
       "9           None  \n",
       "10          None  "
      ]
     },
     "execution_count": 22,
     "metadata": {},
     "output_type": "execute_result"
    }
   ],
   "source": [
    "weibo.sqlite_to_df(sqlite_file)"
   ]
  },
  {
   "cell_type": "markdown",
   "metadata": {},
   "source": [
    "## It can skip redundant keywords"
   ]
  },
  {
   "cell_type": "code",
   "execution_count": 23,
   "metadata": {
    "ExecuteTime": {
     "end_time": "2017-09-25T14:16:52.095181Z",
     "start_time": "2017-09-25T10:16:52.088004-04:00"
    },
    "collapsed": true
   },
   "outputs": [],
   "source": [
    "more_keywords_df = pd.DataFrame(\n",
    "    [{'keyword':'zhongnanhai','source':'my dataframe2',\"notes\":\"location\"},\n",
    "     {'keyword':'cats','source':'my dataframe2',\"notes\":\"pop culture\"},\n",
    "     {'keyword':'zhongnanhai','source':'my dataframe2',\"notes\":\"location\"}\n",
    "    ])"
   ]
  },
  {
   "cell_type": "code",
   "execution_count": 24,
   "metadata": {
    "ExecuteTime": {
     "end_time": "2017-09-25T14:16:52.111806Z",
     "start_time": "2017-09-25T10:16:52.098564-04:00"
    }
   },
   "outputs": [
    {
     "data": {
      "text/html": [
       "<div>\n",
       "<table border=\"1\" class=\"dataframe\">\n",
       "  <thead>\n",
       "    <tr style=\"text-align: right;\">\n",
       "      <th></th>\n",
       "      <th>keyword</th>\n",
       "      <th>notes</th>\n",
       "      <th>source</th>\n",
       "    </tr>\n",
       "  </thead>\n",
       "  <tbody>\n",
       "    <tr>\n",
       "      <th>0</th>\n",
       "      <td>zhongnanhai</td>\n",
       "      <td>location</td>\n",
       "      <td>my dataframe2</td>\n",
       "    </tr>\n",
       "    <tr>\n",
       "      <th>1</th>\n",
       "      <td>cats</td>\n",
       "      <td>pop culture</td>\n",
       "      <td>my dataframe2</td>\n",
       "    </tr>\n",
       "    <tr>\n",
       "      <th>2</th>\n",
       "      <td>zhongnanhai</td>\n",
       "      <td>location</td>\n",
       "      <td>my dataframe2</td>\n",
       "    </tr>\n",
       "  </tbody>\n",
       "</table>\n",
       "</div>"
      ],
      "text/plain": [
       "       keyword        notes         source\n",
       "0  zhongnanhai     location  my dataframe2\n",
       "1         cats  pop culture  my dataframe2\n",
       "2  zhongnanhai     location  my dataframe2"
      ]
     },
     "execution_count": 24,
     "metadata": {},
     "output_type": "execute_result"
    }
   ],
   "source": [
    "more_keywords_df"
   ]
  },
  {
   "cell_type": "code",
   "execution_count": 25,
   "metadata": {
    "ExecuteTime": {
     "end_time": "2017-09-25T14:17:31.151817Z",
     "start_time": "2017-09-25T10:16:52.114906-04:00"
    }
   },
   "outputs": [
    {
     "name": "stdout",
     "output_type": "stream",
     "text": [
      "(0, u'zhongnanhai', 'has_results')\n",
      "(1, u'cats', 'has_results')\n"
     ]
    }
   ],
   "source": [
    "weibo.run(more_keywords_df,sqlite_file=sqlite_file,cookies=cookie)"
   ]
  },
  {
   "cell_type": "code",
   "execution_count": 26,
   "metadata": {
    "ExecuteTime": {
     "end_time": "2017-09-25T14:17:31.212554Z",
     "start_time": "2017-09-25T10:17:31.153808-04:00"
    }
   },
   "outputs": [
    {
     "data": {
      "text/html": [
       "<div>\n",
       "<table border=\"1\" class=\"dataframe\">\n",
       "  <thead>\n",
       "    <tr style=\"text-align: right;\">\n",
       "      <th></th>\n",
       "      <th>id</th>\n",
       "      <th>date</th>\n",
       "      <th>datetime_logged</th>\n",
       "      <th>test_number</th>\n",
       "      <th>keyword</th>\n",
       "      <th>censored</th>\n",
       "      <th>no_results</th>\n",
       "      <th>reset</th>\n",
       "      <th>result</th>\n",
       "      <th>source</th>\n",
       "      <th>num_results</th>\n",
       "      <th>notes</th>\n",
       "    </tr>\n",
       "  </thead>\n",
       "  <tbody>\n",
       "    <tr>\n",
       "      <th>0</th>\n",
       "      <td>0</td>\n",
       "      <td>2017-09-25</td>\n",
       "      <td>2017-09-25 10:13:37.816720</td>\n",
       "      <td>1</td>\n",
       "      <td>hello</td>\n",
       "      <td>0</td>\n",
       "      <td>0</td>\n",
       "      <td>0</td>\n",
       "      <td>has_results</td>\n",
       "      <td>my dataframe</td>\n",
       "      <td>80454701.0</td>\n",
       "      <td>None</td>\n",
       "    </tr>\n",
       "    <tr>\n",
       "      <th>1</th>\n",
       "      <td>1</td>\n",
       "      <td>2017-09-25</td>\n",
       "      <td>2017-09-25 10:13:54.356722</td>\n",
       "      <td>1</td>\n",
       "      <td>lxb</td>\n",
       "      <td>0</td>\n",
       "      <td>0</td>\n",
       "      <td>0</td>\n",
       "      <td>censored</td>\n",
       "      <td>my dataframe</td>\n",
       "      <td>NaN</td>\n",
       "      <td>None</td>\n",
       "    </tr>\n",
       "    <tr>\n",
       "      <th>2</th>\n",
       "      <td>2</td>\n",
       "      <td>2017-09-25</td>\n",
       "      <td>2017-09-25 10:14:11.489530</td>\n",
       "      <td>1</td>\n",
       "      <td>习胞子</td>\n",
       "      <td>0</td>\n",
       "      <td>0</td>\n",
       "      <td>0</td>\n",
       "      <td>no_results</td>\n",
       "      <td>my dataframe</td>\n",
       "      <td>NaN</td>\n",
       "      <td>None</td>\n",
       "    </tr>\n",
       "    <tr>\n",
       "      <th>3</th>\n",
       "      <td>3</td>\n",
       "      <td>2017-09-25</td>\n",
       "      <td>2017-09-25 10:14:29.667395</td>\n",
       "      <td>1</td>\n",
       "      <td>刘晓波</td>\n",
       "      <td>0</td>\n",
       "      <td>0</td>\n",
       "      <td>0</td>\n",
       "      <td>censored</td>\n",
       "      <td>my dataframe</td>\n",
       "      <td>NaN</td>\n",
       "      <td>None</td>\n",
       "    </tr>\n",
       "    <tr>\n",
       "      <th>4</th>\n",
       "      <td>4</td>\n",
       "      <td>2017-09-25</td>\n",
       "      <td>2017-09-25 10:14:49.107078</td>\n",
       "      <td>1</td>\n",
       "      <td>pokemon</td>\n",
       "      <td>0</td>\n",
       "      <td>0</td>\n",
       "      <td>0</td>\n",
       "      <td>has_results</td>\n",
       "      <td>my dataframe</td>\n",
       "      <td>5705260.0</td>\n",
       "      <td>pop culture</td>\n",
       "    </tr>\n",
       "    <tr>\n",
       "      <th>5</th>\n",
       "      <td>5</td>\n",
       "      <td>2017-09-25</td>\n",
       "      <td>2017-09-25 10:15:09.762484</td>\n",
       "      <td>1</td>\n",
       "      <td>jay chou</td>\n",
       "      <td>0</td>\n",
       "      <td>0</td>\n",
       "      <td>0</td>\n",
       "      <td>has_results</td>\n",
       "      <td>my dataframe</td>\n",
       "      <td>881.0</td>\n",
       "      <td>pop culture</td>\n",
       "    </tr>\n",
       "    <tr>\n",
       "      <th>6</th>\n",
       "      <td>6</td>\n",
       "      <td>2017-09-25</td>\n",
       "      <td>2017-09-25 10:15:28.100418</td>\n",
       "      <td>1</td>\n",
       "      <td>weibo</td>\n",
       "      <td>0</td>\n",
       "      <td>0</td>\n",
       "      <td>0</td>\n",
       "      <td>has_results</td>\n",
       "      <td>my dataframe</td>\n",
       "      <td>63401495.0</td>\n",
       "      <td>social media</td>\n",
       "    </tr>\n",
       "    <tr>\n",
       "      <th>7</th>\n",
       "      <td>7</td>\n",
       "      <td>2017-09-25</td>\n",
       "      <td>2017-09-25 10:15:46.214464</td>\n",
       "      <td>2</td>\n",
       "      <td>hello</td>\n",
       "      <td>0</td>\n",
       "      <td>0</td>\n",
       "      <td>0</td>\n",
       "      <td>has_results</td>\n",
       "      <td>my dataframe</td>\n",
       "      <td>80454634.0</td>\n",
       "      <td>None</td>\n",
       "    </tr>\n",
       "    <tr>\n",
       "      <th>8</th>\n",
       "      <td>8</td>\n",
       "      <td>2017-09-25</td>\n",
       "      <td>2017-09-25 10:16:03.274804</td>\n",
       "      <td>2</td>\n",
       "      <td>lxb</td>\n",
       "      <td>0</td>\n",
       "      <td>0</td>\n",
       "      <td>0</td>\n",
       "      <td>censored</td>\n",
       "      <td>my dataframe</td>\n",
       "      <td>NaN</td>\n",
       "      <td>None</td>\n",
       "    </tr>\n",
       "    <tr>\n",
       "      <th>9</th>\n",
       "      <td>9</td>\n",
       "      <td>2017-09-25</td>\n",
       "      <td>2017-09-25 10:16:19.035805</td>\n",
       "      <td>2</td>\n",
       "      <td>习胞子</td>\n",
       "      <td>0</td>\n",
       "      <td>0</td>\n",
       "      <td>0</td>\n",
       "      <td>no_results</td>\n",
       "      <td>my dataframe</td>\n",
       "      <td>NaN</td>\n",
       "      <td>None</td>\n",
       "    </tr>\n",
       "    <tr>\n",
       "      <th>10</th>\n",
       "      <td>10</td>\n",
       "      <td>2017-09-25</td>\n",
       "      <td>2017-09-25 10:16:36.021837</td>\n",
       "      <td>2</td>\n",
       "      <td>刘晓波</td>\n",
       "      <td>0</td>\n",
       "      <td>0</td>\n",
       "      <td>0</td>\n",
       "      <td>censored</td>\n",
       "      <td>my dataframe</td>\n",
       "      <td>NaN</td>\n",
       "      <td>None</td>\n",
       "    </tr>\n",
       "    <tr>\n",
       "      <th>11</th>\n",
       "      <td>11</td>\n",
       "      <td>2017-09-25</td>\n",
       "      <td>2017-09-25 10:16:53.766351</td>\n",
       "      <td>1</td>\n",
       "      <td>zhongnanhai</td>\n",
       "      <td>0</td>\n",
       "      <td>0</td>\n",
       "      <td>0</td>\n",
       "      <td>has_results</td>\n",
       "      <td>my dataframe2</td>\n",
       "      <td>109.0</td>\n",
       "      <td>location</td>\n",
       "    </tr>\n",
       "    <tr>\n",
       "      <th>12</th>\n",
       "      <td>12</td>\n",
       "      <td>2017-09-25</td>\n",
       "      <td>2017-09-25 10:17:14.124440</td>\n",
       "      <td>1</td>\n",
       "      <td>cats</td>\n",
       "      <td>0</td>\n",
       "      <td>0</td>\n",
       "      <td>0</td>\n",
       "      <td>has_results</td>\n",
       "      <td>my dataframe2</td>\n",
       "      <td>648313.0</td>\n",
       "      <td>pop culture</td>\n",
       "    </tr>\n",
       "  </tbody>\n",
       "</table>\n",
       "</div>"
      ],
      "text/plain": [
       "    id        date             datetime_logged  test_number      keyword  \\\n",
       "0    0  2017-09-25  2017-09-25 10:13:37.816720            1        hello   \n",
       "1    1  2017-09-25  2017-09-25 10:13:54.356722            1          lxb   \n",
       "2    2  2017-09-25  2017-09-25 10:14:11.489530            1          习胞子   \n",
       "3    3  2017-09-25  2017-09-25 10:14:29.667395            1          刘晓波   \n",
       "4    4  2017-09-25  2017-09-25 10:14:49.107078            1      pokemon   \n",
       "5    5  2017-09-25  2017-09-25 10:15:09.762484            1     jay chou   \n",
       "6    6  2017-09-25  2017-09-25 10:15:28.100418            1        weibo   \n",
       "7    7  2017-09-25  2017-09-25 10:15:46.214464            2        hello   \n",
       "8    8  2017-09-25  2017-09-25 10:16:03.274804            2          lxb   \n",
       "9    9  2017-09-25  2017-09-25 10:16:19.035805            2          习胞子   \n",
       "10  10  2017-09-25  2017-09-25 10:16:36.021837            2          刘晓波   \n",
       "11  11  2017-09-25  2017-09-25 10:16:53.766351            1  zhongnanhai   \n",
       "12  12  2017-09-25  2017-09-25 10:17:14.124440            1         cats   \n",
       "\n",
       "    censored  no_results  reset       result         source  num_results  \\\n",
       "0          0           0      0  has_results   my dataframe   80454701.0   \n",
       "1          0           0      0     censored   my dataframe          NaN   \n",
       "2          0           0      0   no_results   my dataframe          NaN   \n",
       "3          0           0      0     censored   my dataframe          NaN   \n",
       "4          0           0      0  has_results   my dataframe    5705260.0   \n",
       "5          0           0      0  has_results   my dataframe        881.0   \n",
       "6          0           0      0  has_results   my dataframe   63401495.0   \n",
       "7          0           0      0  has_results   my dataframe   80454634.0   \n",
       "8          0           0      0     censored   my dataframe          NaN   \n",
       "9          0           0      0   no_results   my dataframe          NaN   \n",
       "10         0           0      0     censored   my dataframe          NaN   \n",
       "11         0           0      0  has_results  my dataframe2        109.0   \n",
       "12         0           0      0  has_results  my dataframe2     648313.0   \n",
       "\n",
       "           notes  \n",
       "0           None  \n",
       "1           None  \n",
       "2           None  \n",
       "3           None  \n",
       "4    pop culture  \n",
       "5    pop culture  \n",
       "6   social media  \n",
       "7           None  \n",
       "8           None  \n",
       "9           None  \n",
       "10          None  \n",
       "11      location  \n",
       "12   pop culture  "
      ]
     },
     "execution_count": 26,
     "metadata": {},
     "output_type": "execute_result"
    }
   ],
   "source": [
    "weibo.sqlite_to_df(sqlite_file)"
   ]
  },
  {
   "cell_type": "markdown",
   "metadata": {},
   "source": [
    "## You can also pass in lists if you prefer (though you can't include the source or notes)"
   ]
  },
  {
   "cell_type": "code",
   "execution_count": 27,
   "metadata": {
    "ExecuteTime": {
     "end_time": "2017-09-25T14:17:31.222399Z",
     "start_time": "2017-09-25T10:17:31.218181-04:00"
    },
    "collapsed": true
   },
   "outputs": [],
   "source": [
    "sample_keywords_list = [\"cats\",'yes','自由亚洲电台','刘晓波','dhfjkdashfjkasdhf']"
   ]
  },
  {
   "cell_type": "markdown",
   "metadata": {
    "ExecuteTime": {
     "end_time": "2017-09-25T05:12:31.015013Z",
     "start_time": "2017-09-25T01:12:31.009632-04:00"
    }
   },
   "source": [
    "**See below how it handles connection reset errors (it waits a little extra to make sure your connection clears before continuing testing)**"
   ]
  },
  {
   "cell_type": "code",
   "execution_count": 28,
   "metadata": {
    "ExecuteTime": {
     "end_time": "2017-09-25T14:20:34.761074Z",
     "start_time": "2017-09-25T10:17:31.226014-04:00"
    }
   },
   "outputs": [
    {
     "name": "stdout",
     "output_type": "stream",
     "text": [
      "(0, u'cats', 'has_results')\n",
      "(1, u'yes', 'has_results')\n",
      "自由亚洲电台 caused connection reset, waiting 95\n",
      "(2, u'\\u81ea\\u7531\\u4e9a\\u6d32\\u7535\\u53f0', 'reset')\n",
      "(3, u'\\u5218\\u6653\\u6ce2', 'censored')\n",
      "(4, u'dhfjkdashfjkasdsf87', 'no_results')\n"
     ]
    }
   ],
   "source": [
    "weibo.run(sample_keywords_list,sqlite_file=sqlite_file,cookies=cookie)"
   ]
  },
  {
   "cell_type": "code",
   "execution_count": 29,
   "metadata": {
    "ExecuteTime": {
     "end_time": "2017-09-25T14:20:34.844462Z",
     "start_time": "2017-09-25T10:20:34.764197-04:00"
    }
   },
   "outputs": [
    {
     "data": {
      "text/html": [
       "<div>\n",
       "<table border=\"1\" class=\"dataframe\">\n",
       "  <thead>\n",
       "    <tr style=\"text-align: right;\">\n",
       "      <th></th>\n",
       "      <th>id</th>\n",
       "      <th>date</th>\n",
       "      <th>datetime_logged</th>\n",
       "      <th>test_number</th>\n",
       "      <th>keyword</th>\n",
       "      <th>censored</th>\n",
       "      <th>no_results</th>\n",
       "      <th>reset</th>\n",
       "      <th>result</th>\n",
       "      <th>source</th>\n",
       "      <th>num_results</th>\n",
       "      <th>notes</th>\n",
       "    </tr>\n",
       "  </thead>\n",
       "  <tbody>\n",
       "    <tr>\n",
       "      <th>0</th>\n",
       "      <td>0</td>\n",
       "      <td>2017-09-25</td>\n",
       "      <td>2017-09-25 10:13:37.816720</td>\n",
       "      <td>1</td>\n",
       "      <td>hello</td>\n",
       "      <td>0</td>\n",
       "      <td>0</td>\n",
       "      <td>0</td>\n",
       "      <td>has_results</td>\n",
       "      <td>my dataframe</td>\n",
       "      <td>80454701.0</td>\n",
       "      <td>None</td>\n",
       "    </tr>\n",
       "    <tr>\n",
       "      <th>1</th>\n",
       "      <td>1</td>\n",
       "      <td>2017-09-25</td>\n",
       "      <td>2017-09-25 10:13:54.356722</td>\n",
       "      <td>1</td>\n",
       "      <td>lxb</td>\n",
       "      <td>0</td>\n",
       "      <td>0</td>\n",
       "      <td>0</td>\n",
       "      <td>censored</td>\n",
       "      <td>my dataframe</td>\n",
       "      <td>NaN</td>\n",
       "      <td>None</td>\n",
       "    </tr>\n",
       "    <tr>\n",
       "      <th>2</th>\n",
       "      <td>2</td>\n",
       "      <td>2017-09-25</td>\n",
       "      <td>2017-09-25 10:14:11.489530</td>\n",
       "      <td>1</td>\n",
       "      <td>习胞子</td>\n",
       "      <td>0</td>\n",
       "      <td>0</td>\n",
       "      <td>0</td>\n",
       "      <td>no_results</td>\n",
       "      <td>my dataframe</td>\n",
       "      <td>NaN</td>\n",
       "      <td>None</td>\n",
       "    </tr>\n",
       "    <tr>\n",
       "      <th>3</th>\n",
       "      <td>3</td>\n",
       "      <td>2017-09-25</td>\n",
       "      <td>2017-09-25 10:14:29.667395</td>\n",
       "      <td>1</td>\n",
       "      <td>刘晓波</td>\n",
       "      <td>0</td>\n",
       "      <td>0</td>\n",
       "      <td>0</td>\n",
       "      <td>censored</td>\n",
       "      <td>my dataframe</td>\n",
       "      <td>NaN</td>\n",
       "      <td>None</td>\n",
       "    </tr>\n",
       "    <tr>\n",
       "      <th>4</th>\n",
       "      <td>4</td>\n",
       "      <td>2017-09-25</td>\n",
       "      <td>2017-09-25 10:14:49.107078</td>\n",
       "      <td>1</td>\n",
       "      <td>pokemon</td>\n",
       "      <td>0</td>\n",
       "      <td>0</td>\n",
       "      <td>0</td>\n",
       "      <td>has_results</td>\n",
       "      <td>my dataframe</td>\n",
       "      <td>5705260.0</td>\n",
       "      <td>pop culture</td>\n",
       "    </tr>\n",
       "    <tr>\n",
       "      <th>5</th>\n",
       "      <td>5</td>\n",
       "      <td>2017-09-25</td>\n",
       "      <td>2017-09-25 10:15:09.762484</td>\n",
       "      <td>1</td>\n",
       "      <td>jay chou</td>\n",
       "      <td>0</td>\n",
       "      <td>0</td>\n",
       "      <td>0</td>\n",
       "      <td>has_results</td>\n",
       "      <td>my dataframe</td>\n",
       "      <td>881.0</td>\n",
       "      <td>pop culture</td>\n",
       "    </tr>\n",
       "    <tr>\n",
       "      <th>6</th>\n",
       "      <td>6</td>\n",
       "      <td>2017-09-25</td>\n",
       "      <td>2017-09-25 10:15:28.100418</td>\n",
       "      <td>1</td>\n",
       "      <td>weibo</td>\n",
       "      <td>0</td>\n",
       "      <td>0</td>\n",
       "      <td>0</td>\n",
       "      <td>has_results</td>\n",
       "      <td>my dataframe</td>\n",
       "      <td>63401495.0</td>\n",
       "      <td>social media</td>\n",
       "    </tr>\n",
       "    <tr>\n",
       "      <th>7</th>\n",
       "      <td>7</td>\n",
       "      <td>2017-09-25</td>\n",
       "      <td>2017-09-25 10:15:46.214464</td>\n",
       "      <td>2</td>\n",
       "      <td>hello</td>\n",
       "      <td>0</td>\n",
       "      <td>0</td>\n",
       "      <td>0</td>\n",
       "      <td>has_results</td>\n",
       "      <td>my dataframe</td>\n",
       "      <td>80454634.0</td>\n",
       "      <td>None</td>\n",
       "    </tr>\n",
       "    <tr>\n",
       "      <th>8</th>\n",
       "      <td>8</td>\n",
       "      <td>2017-09-25</td>\n",
       "      <td>2017-09-25 10:16:03.274804</td>\n",
       "      <td>2</td>\n",
       "      <td>lxb</td>\n",
       "      <td>0</td>\n",
       "      <td>0</td>\n",
       "      <td>0</td>\n",
       "      <td>censored</td>\n",
       "      <td>my dataframe</td>\n",
       "      <td>NaN</td>\n",
       "      <td>None</td>\n",
       "    </tr>\n",
       "    <tr>\n",
       "      <th>9</th>\n",
       "      <td>9</td>\n",
       "      <td>2017-09-25</td>\n",
       "      <td>2017-09-25 10:16:19.035805</td>\n",
       "      <td>2</td>\n",
       "      <td>习胞子</td>\n",
       "      <td>0</td>\n",
       "      <td>0</td>\n",
       "      <td>0</td>\n",
       "      <td>no_results</td>\n",
       "      <td>my dataframe</td>\n",
       "      <td>NaN</td>\n",
       "      <td>None</td>\n",
       "    </tr>\n",
       "    <tr>\n",
       "      <th>10</th>\n",
       "      <td>10</td>\n",
       "      <td>2017-09-25</td>\n",
       "      <td>2017-09-25 10:16:36.021837</td>\n",
       "      <td>2</td>\n",
       "      <td>刘晓波</td>\n",
       "      <td>0</td>\n",
       "      <td>0</td>\n",
       "      <td>0</td>\n",
       "      <td>censored</td>\n",
       "      <td>my dataframe</td>\n",
       "      <td>NaN</td>\n",
       "      <td>None</td>\n",
       "    </tr>\n",
       "    <tr>\n",
       "      <th>11</th>\n",
       "      <td>11</td>\n",
       "      <td>2017-09-25</td>\n",
       "      <td>2017-09-25 10:16:53.766351</td>\n",
       "      <td>1</td>\n",
       "      <td>zhongnanhai</td>\n",
       "      <td>0</td>\n",
       "      <td>0</td>\n",
       "      <td>0</td>\n",
       "      <td>has_results</td>\n",
       "      <td>my dataframe2</td>\n",
       "      <td>109.0</td>\n",
       "      <td>location</td>\n",
       "    </tr>\n",
       "    <tr>\n",
       "      <th>12</th>\n",
       "      <td>12</td>\n",
       "      <td>2017-09-25</td>\n",
       "      <td>2017-09-25 10:17:14.124440</td>\n",
       "      <td>1</td>\n",
       "      <td>cats</td>\n",
       "      <td>0</td>\n",
       "      <td>0</td>\n",
       "      <td>0</td>\n",
       "      <td>has_results</td>\n",
       "      <td>my dataframe2</td>\n",
       "      <td>648313.0</td>\n",
       "      <td>pop culture</td>\n",
       "    </tr>\n",
       "    <tr>\n",
       "      <th>13</th>\n",
       "      <td>13</td>\n",
       "      <td>2017-09-25</td>\n",
       "      <td>2017-09-25 10:17:36.205255</td>\n",
       "      <td>1</td>\n",
       "      <td>cats</td>\n",
       "      <td>0</td>\n",
       "      <td>0</td>\n",
       "      <td>0</td>\n",
       "      <td>has_results</td>\n",
       "      <td>list</td>\n",
       "      <td>648313.0</td>\n",
       "      <td>None</td>\n",
       "    </tr>\n",
       "    <tr>\n",
       "      <th>14</th>\n",
       "      <td>14</td>\n",
       "      <td>2017-09-25</td>\n",
       "      <td>2017-09-25 10:17:54.330039</td>\n",
       "      <td>1</td>\n",
       "      <td>yes</td>\n",
       "      <td>0</td>\n",
       "      <td>0</td>\n",
       "      <td>0</td>\n",
       "      <td>has_results</td>\n",
       "      <td>list</td>\n",
       "      <td>28413048.0</td>\n",
       "      <td>None</td>\n",
       "    </tr>\n",
       "    <tr>\n",
       "      <th>15</th>\n",
       "      <td>15</td>\n",
       "      <td>2017-09-25</td>\n",
       "      <td>2017-09-25 10:19:47.007930</td>\n",
       "      <td>1</td>\n",
       "      <td>自由亚洲电台</td>\n",
       "      <td>0</td>\n",
       "      <td>0</td>\n",
       "      <td>0</td>\n",
       "      <td>reset</td>\n",
       "      <td>list</td>\n",
       "      <td>NaN</td>\n",
       "      <td>None</td>\n",
       "    </tr>\n",
       "    <tr>\n",
       "      <th>16</th>\n",
       "      <td>16</td>\n",
       "      <td>2017-09-25</td>\n",
       "      <td>2017-09-25 10:20:03.491231</td>\n",
       "      <td>1</td>\n",
       "      <td>刘晓波</td>\n",
       "      <td>0</td>\n",
       "      <td>0</td>\n",
       "      <td>0</td>\n",
       "      <td>censored</td>\n",
       "      <td>list</td>\n",
       "      <td>NaN</td>\n",
       "      <td>None</td>\n",
       "    </tr>\n",
       "    <tr>\n",
       "      <th>17</th>\n",
       "      <td>17</td>\n",
       "      <td>2017-09-25</td>\n",
       "      <td>2017-09-25 10:20:18.747414</td>\n",
       "      <td>1</td>\n",
       "      <td>dhfjkdashfjkasdsf87</td>\n",
       "      <td>0</td>\n",
       "      <td>0</td>\n",
       "      <td>0</td>\n",
       "      <td>no_results</td>\n",
       "      <td>list</td>\n",
       "      <td>NaN</td>\n",
       "      <td>None</td>\n",
       "    </tr>\n",
       "  </tbody>\n",
       "</table>\n",
       "</div>"
      ],
      "text/plain": [
       "    id        date             datetime_logged  test_number  \\\n",
       "0    0  2017-09-25  2017-09-25 10:13:37.816720            1   \n",
       "1    1  2017-09-25  2017-09-25 10:13:54.356722            1   \n",
       "2    2  2017-09-25  2017-09-25 10:14:11.489530            1   \n",
       "3    3  2017-09-25  2017-09-25 10:14:29.667395            1   \n",
       "4    4  2017-09-25  2017-09-25 10:14:49.107078            1   \n",
       "5    5  2017-09-25  2017-09-25 10:15:09.762484            1   \n",
       "6    6  2017-09-25  2017-09-25 10:15:28.100418            1   \n",
       "7    7  2017-09-25  2017-09-25 10:15:46.214464            2   \n",
       "8    8  2017-09-25  2017-09-25 10:16:03.274804            2   \n",
       "9    9  2017-09-25  2017-09-25 10:16:19.035805            2   \n",
       "10  10  2017-09-25  2017-09-25 10:16:36.021837            2   \n",
       "11  11  2017-09-25  2017-09-25 10:16:53.766351            1   \n",
       "12  12  2017-09-25  2017-09-25 10:17:14.124440            1   \n",
       "13  13  2017-09-25  2017-09-25 10:17:36.205255            1   \n",
       "14  14  2017-09-25  2017-09-25 10:17:54.330039            1   \n",
       "15  15  2017-09-25  2017-09-25 10:19:47.007930            1   \n",
       "16  16  2017-09-25  2017-09-25 10:20:03.491231            1   \n",
       "17  17  2017-09-25  2017-09-25 10:20:18.747414            1   \n",
       "\n",
       "                                 keyword  censored  no_results  reset  \\\n",
       "0                                  hello         0           0      0   \n",
       "1                                    lxb         0           0      0   \n",
       "2                                    习胞子         0           0      0   \n",
       "3                                    刘晓波         0           0      0   \n",
       "4                                pokemon         0           0      0   \n",
       "5                               jay chou         0           0      0   \n",
       "6                                  weibo         0           0      0   \n",
       "7                                  hello         0           0      0   \n",
       "8                                    lxb         0           0      0   \n",
       "9                                    习胞子         0           0      0   \n",
       "10                                   刘晓波         0           0      0   \n",
       "11                           zhongnanhai         0           0      0   \n",
       "12                                  cats         0           0      0   \n",
       "13                                  cats         0           0      0   \n",
       "14                                   yes         0           0      0   \n",
       "15                                自由亚洲电台         0           0      0   \n",
       "16                                   刘晓波         0           0      0   \n",
       "17  dhfjkdashfjkasdsf87         0           0      0   \n",
       "\n",
       "         result         source  num_results         notes  \n",
       "0   has_results   my dataframe   80454701.0          None  \n",
       "1      censored   my dataframe          NaN          None  \n",
       "2    no_results   my dataframe          NaN          None  \n",
       "3      censored   my dataframe          NaN          None  \n",
       "4   has_results   my dataframe    5705260.0   pop culture  \n",
       "5   has_results   my dataframe        881.0   pop culture  \n",
       "6   has_results   my dataframe   63401495.0  social media  \n",
       "7   has_results   my dataframe   80454634.0          None  \n",
       "8      censored   my dataframe          NaN          None  \n",
       "9    no_results   my dataframe          NaN          None  \n",
       "10     censored   my dataframe          NaN          None  \n",
       "11  has_results  my dataframe2        109.0      location  \n",
       "12  has_results  my dataframe2     648313.0   pop culture  \n",
       "13  has_results           list     648313.0          None  \n",
       "14  has_results           list   28413048.0          None  \n",
       "15        reset           list          NaN          None  \n",
       "16     censored           list          NaN          None  \n",
       "17   no_results           list          NaN          None  "
      ]
     },
     "execution_count": 29,
     "metadata": {},
     "output_type": "execute_result"
    }
   ],
   "source": [
    "weibo.sqlite_to_df(sqlite_file)"
   ]
  },
  {
   "cell_type": "code",
   "execution_count": null,
   "metadata": {
    "collapsed": true
   },
   "outputs": [],
   "source": []
  }
 ],
 "metadata": {
  "anaconda-cloud": {},
  "kernelspec": {
   "display_name": "Python [conda root]",
   "language": "python",
   "name": "conda-root-py"
  },
  "language_info": {
   "codemirror_mode": {
    "name": "ipython",
    "version": 2
   },
   "file_extension": ".py",
   "mimetype": "text/x-python",
   "name": "python",
   "nbconvert_exporter": "python",
   "pygments_lexer": "ipython2",
   "version": "2.7.12"
  },
  "toc": {
   "colors": {
    "hover_highlight": "#DAA520",
    "running_highlight": "#FF0000",
    "selected_highlight": "#FFD700"
   },
   "moveMenuLeft": true,
   "nav_menu": {
    "height": "12px",
    "width": "252px"
   },
   "navigate_menu": true,
   "number_sections": true,
   "sideBar": true,
   "threshold": 4,
   "toc_cell": true,
   "toc_section_display": "block",
   "toc_window_display": false
  }
 },
 "nbformat": 4,
 "nbformat_minor": 2
}
