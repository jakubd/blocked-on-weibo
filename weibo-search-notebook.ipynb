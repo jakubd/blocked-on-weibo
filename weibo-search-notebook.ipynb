{
 "cells": [
  {
   "cell_type": "code",
   "execution_count": 4,
   "metadata": {
    "ExecuteTime": {
     "end_time": "2017-07-14T05:45:25.037781Z",
     "start_time": "2017-07-14T05:45:25.027023Z"
    }
   },
   "outputs": [],
   "source": [
    "#!/usr/bin/env python\n",
    "# -*- coding: utf-8 -*-\n",
    "\n",
    "from bs4 import BeautifulSoup\n",
    "import urllib\n",
    "import codecs\n",
    "import time\n",
    "import random\n",
    "import sqlite3\n",
    "from datetime import datetime\n",
    "import pandas as pd\n",
    "import os\n",
    "from df2gspread import gspread2df as g2d\n",
    "import io\n",
    "import requests\n",
    "import ast\n",
    "import weibo_credentials\n",
    "\n",
    "pd.set_option('display.max_rows', 500)"
   ]
  },
  {
   "cell_type": "code",
   "execution_count": 78,
   "metadata": {
    "ExecuteTime": {
     "end_time": "2017-07-14T06:40:24.944793Z",
     "start_time": "2017-07-14T06:40:24.928289Z"
    }
   },
   "outputs": [],
   "source": [
    "### SETTINGS\n",
    "\n",
    "sqlite_file = 'results.sqlite' # name of sqlite file to read from/write to\n",
    "new_database = True # erases any existing sqlite file and generates an empty one to write to\n",
    "verbose = \"some\" # 'none',some','all'\n",
    "load_cookies = True # load cookies from disk (can load cookies without having to do fresh_log_in if cookies already exist)\n",
    "fresh_log_in = False # perform a log in\n",
    "write_cookies = False # save cookies and overwrite any existing cookies during log in\n",
    "cookie_file = weibo_credentials.Creds().username + \"_cookie.txt\" # name of cookie file in case you want to specify\n",
    "\n",
    "censorship_phrase_utf8 = '根据相关法律法规和政策'\n",
    "censorship_phrase_decoded = codecs.encode(censorship_phrase_utf8.decode('utf8'), 'unicode_escape')\n",
    "\n",
    "captcha_phrase_utf8 = '你的行为有些异常'\n",
    "captcha_phrase_decoded = codecs.encode(captcha_phrase_utf8.decode('utf8'), 'unicode_escape')\n",
    "\n",
    "no_results_phrase_utf8 = '抱歉，未找到'\n",
    "no_results_phrase_decoded = codecs.encode(no_results_phrase_utf8.decode('utf8'), 'unicode_escape')"
   ]
  },
  {
   "cell_type": "code",
   "execution_count": 6,
   "metadata": {
    "ExecuteTime": {
     "end_time": "2017-07-14T05:45:27.743816Z",
     "start_time": "2017-07-14T05:45:27.660209Z"
    }
   },
   "outputs": [],
   "source": [
    "# code from https://www.zhihu.com/question/29666539 with minor modifications\n",
    "import base64  \n",
    "import re\n",
    "try:\n",
    "    from urllib.parse import urlparse\n",
    "except ImportError:\n",
    "     from urlparse import urlparse\n",
    "import rsa  \n",
    "import json  \n",
    "import binascii  \n",
    "from bs4 import BeautifulSoup\n",
    "import weibo_credentials\n",
    "  \n",
    "class Userlogin:  \n",
    "    def userlogin(self,username,password,write_cookie=True):  \n",
    "        session = requests.Session()  \n",
    "        url_prelogin = 'http://login.sina.com.cn/sso/prelogin.php?entry=weibo&callback=sinaSSOController.preloginCallBack&su=&rsakt=mod&client=ssologin.js(v1.4.5)&_=1364875106625'  \n",
    "        url_login = 'http://login.sina.com.cn/sso/login.php?client=ssologin.js(v1.4.5)'  \n",
    "  \n",
    "        #get servertime,nonce, pubkey,rsakv  \n",
    "        resp = session.get(url_prelogin)  \n",
    "        json_data  = re.findall(r'(?<=\\().*(?=\\))', resp.text)[0]\n",
    "        data       = json.loads(json_data)  \n",
    "\n",
    "\n",
    "        servertime = data['servertime']  \n",
    "        nonce      = data['nonce']  \n",
    "        pubkey     = data['pubkey']  \n",
    "        rsakv      = data['rsakv']  \n",
    "  \n",
    "        # calculate su  \n",
    "        #print(urlparse.quote(username))\n",
    "        su  = base64.b64encode(username.encode(encoding=\"utf-8\"))  \n",
    "  \n",
    "        #calculate sp  \n",
    "        rsaPublickey= int(pubkey,16)  \n",
    "        key = rsa.PublicKey(rsaPublickey,65537)  \n",
    "        message = str(servertime) +'\\t' + str(nonce) + '\\n' + str(password)  \n",
    "        sp = binascii.b2a_hex(rsa.encrypt(message.encode(encoding=\"utf-8\"),key))  \n",
    "        postdata = {  \n",
    "                            'entry': 'weibo',  \n",
    "                            'gateway': '1',  \n",
    "                            'from': '',  \n",
    "                            'savestate': '7',  \n",
    "                            'userticket': '1',  \n",
    "                            'ssosimplelogin': '1',  \n",
    "                            'vsnf': '1',  \n",
    "                            'vsnval': '',  \n",
    "                            'su': su,  \n",
    "                            'service': 'miniblog',  \n",
    "                            'servertime': servertime,  \n",
    "                            'nonce': nonce,  \n",
    "                            'pwencode': 'rsa2',  \n",
    "                            'sp': sp,  \n",
    "                            'encoding': 'UTF-8',  \n",
    "                           'url': 'http://weibo.com/ajaxlogin.php?framelogin=1&callback=parent.sinaSSOController.feedBackUrlCallBack',  \n",
    "                            'returntype': 'META',  \n",
    "                            'rsakv' : rsakv,  \n",
    "                            }  \n",
    "        resp = session.post(url_login,data=postdata)  \n",
    "        # print resp.headers \n",
    "        #print(resp.content)\n",
    "        login_url = re.findall(r'http://weibo.*&retcode=0',resp.text)  \n",
    "        #  \n",
    "        #print(login_url)\n",
    "        respo = session.get(login_url[0])  \n",
    "        uid = re.findall('\"uniqueid\":\"(\\d+)\",',respo.text)[0]  \n",
    "        url = \"http://weibo.com/u/\"+uid  \n",
    "        respo = session.get(url)\n",
    "        if write_cookie:\n",
    "            cookie_dict = session.cookies.get_dict()\n",
    "            with open(username + \"_cookie.txt\", 'w') as f:\n",
    "                f.write(cookie)\n",
    "        return session\n",
    "    \n",
    "if fresh_log_in:\n",
    "    session = Userlogin().userlogin(weibo_credentials.Creds().username,weibo_credentials.Creds().password)\n",
    "\n",
    "if load_cookies:\n",
    "    with open(cookie_file, 'r') as f:\n",
    "        cookie = ast.literal_eval(f.read())\n",
    "else:\n",
    "    cookie = None"
   ]
  },
  {
   "cell_type": "code",
   "execution_count": 45,
   "metadata": {
    "ExecuteTime": {
     "end_time": "2017-07-14T06:21:56.925102Z",
     "start_time": "2017-07-14T06:21:56.915512Z"
    },
    "collapsed": true
   },
   "outputs": [],
   "source": [
    "def verify_cookies_work(cookie=cookie):\n",
    "    r = requests.get('http://level.account.weibo.com/level/mylevel?from=profile1',cookies=cookie).text\n",
    "    if \"W_face_radius\" in r:\n",
    "        return True\n",
    "    else:\n",
    "        return False"
   ]
  },
  {
   "cell_type": "code",
   "execution_count": 20,
   "metadata": {
    "ExecuteTime": {
     "end_time": "2017-07-14T05:50:48.138750Z",
     "start_time": "2017-07-14T05:50:48.117492Z"
    }
   },
   "outputs": [],
   "source": [
    "def has_censorship(keyword,cookies=None):\n",
    "    if isinstance(keyword, str):\n",
    "        url = 'http://s.weibo.com/weibo/%s&Refer=index' % keyword\n",
    "    elif isinstance(keyword, unicode):\n",
    "        url = ('http://s.weibo.com/weibo/%s&Refer=index' % keyword).encode('utf-8')    \n",
    "    \n",
    "    try:\n",
    "        r = requests.get(url,cookies=cookie).text\n",
    "        if captcha_phrase_decoded in r:\n",
    "            print \"CAPTCHA\", keyword\n",
    "    except IOError:\n",
    "        wait_seconds = random.randint(90, 100)\n",
    "        print \"connection reset, waiting %s\" % wait_seconds\n",
    "        time.sleep(wait_seconds)\n",
    "        return \"reset\"\n",
    "    \n",
    "    if censorship_phrase_decoded in r:\n",
    "        return \"censored\"\n",
    "    elif no_results_phrase_decoded in r:\n",
    "        return \"no_results\"\n",
    "    else:\n",
    "        return \"has_results\"\n",
    "    #soup = BeautifulSoup(r, 'html.parser')"
   ]
  },
  {
   "cell_type": "code",
   "execution_count": 79,
   "metadata": {
    "ExecuteTime": {
     "end_time": "2017-07-14T06:40:31.305388Z",
     "start_time": "2017-07-14T06:40:31.290613Z"
    }
   },
   "outputs": [],
   "source": [
    "def create_table(sqlite_file):\n",
    "    conn = sqlite3.connect(sqlite_file)\n",
    "    c = conn.cursor()\n",
    "    c.execute('CREATE TABLE results (id int, date date, datetime datetime, keyword string, censored bool, no_results bool, reset bool, result string, source string, PRIMARY KEY(id,date,source))')\n",
    "    conn.commit()\n",
    "    conn.close()\n",
    "    \n",
    "if new_database and os.path.isfile(sqlite_file):\n",
    "    os.remove(sqlite_file)\n",
    "if not os.path.isfile(sqlite_file):\n",
    "    create_table(sqlite_file)"
   ]
  },
  {
   "cell_type": "code",
   "execution_count": 10,
   "metadata": {
    "ExecuteTime": {
     "end_time": "2017-07-14T05:45:32.963599Z",
     "start_time": "2017-07-14T05:45:32.940058Z"
    }
   },
   "outputs": [],
   "source": [
    "def insert_into_table(record_id,keyword,result,source):\n",
    "    conn = sqlite3.connect(sqlite_file)\n",
    "    conn.text_factory = str\n",
    "    c = conn.cursor()\n",
    "    \n",
    "    dt = datetime.now()\n",
    "    d = dt.date()\n",
    "    \n",
    "    if result is \"censored\":\n",
    "        censored = True\n",
    "    else:\n",
    "        censored = False\n",
    "        \n",
    "    if result is \"no_results\":\n",
    "        no_results = True\n",
    "    else:\n",
    "        no_results = False\n",
    "        \n",
    "    if result is \"reset\":\n",
    "        reset = True\n",
    "    else:\n",
    "        reset = False\n",
    "\n",
    "    query = \"\"\"INSERT INTO results (id, date, datetime, keyword, censored, no_results, reset, result, source) VALUES (?,?,?,?,?,?,?,?,?);\"\"\"\n",
    "    c.execute(query,(record_id, d, dt, keyword, censored, no_results, reset, result, source))\n",
    "\n",
    "    conn.commit()\n",
    "    conn.close()\n",
    "    \n",
    "def sqlite_to_df(sqlite_file):\n",
    "    conn = sqlite3.connect(sqlite_file)\n",
    "    df = pd.read_sql_query(\"select * from results;\", conn)\n",
    "    return df"
   ]
  },
  {
   "cell_type": "code",
   "execution_count": 71,
   "metadata": {
    "ExecuteTime": {
     "end_time": "2017-07-14T06:38:22.184618Z",
     "start_time": "2017-07-14T06:38:22.169076Z"
    }
   },
   "outputs": [],
   "source": [
    "def get_keywords_from_source(location,keyword_col_name,source_name,lxb_categories=None):\n",
    "    test_keywords = pd.DataFrame()\n",
    "    if '.csv' in location:\n",
    "        s=requests.get(location).content\n",
    "        test_df=pd.read_csv(io.StringIO(s.decode('utf-8')))\n",
    "    else:\n",
    "        test_df = g2d.download(location,col_names=True)\n",
    "    if lxb_categories:\n",
    "        mask = test_df.category.isin(lxb_categories)\n",
    "        test_df = test_df[mask]\n",
    "    test_keywords['keyword'] = test_df[keyword_col_name]\n",
    "    test_keywords['source'] = source_name\n",
    "    return test_keywords"
   ]
  },
  {
   "cell_type": "code",
   "execution_count": 37,
   "metadata": {
    "ExecuteTime": {
     "end_time": "2017-07-14T06:12:40.328915Z",
     "start_time": "2017-07-14T06:12:40.304037Z"
    }
   },
   "outputs": [],
   "source": [
    "def run(test_keywords,verbose='some',insert=True,return_df=False,sleep=True):\n",
    "    \n",
    "    count=0\n",
    "    if return_df:\n",
    "        results_df = pd.DataFrame()\n",
    "    \n",
    "    for r in test_keywords.itertuples():\n",
    "        if insert and r.Index < len(sqlite_to_df(sqlite_file)):\n",
    "            continue\n",
    "        result = has_censorship(r.keyword)\n",
    "        if verbose==\"all\":\n",
    "            print r.Index,r.keyword, result\n",
    "        if verbose==\"some\" and (count%100==0 or count==0):\n",
    "            print r.Index,r.keyword, result\n",
    "        if insert:\n",
    "            insert_into_table(r.Index,r.keyword,result,r.source)\n",
    "        if return_df:\n",
    "            results_df = pd.concat([results_df,\n",
    "                                    pd.DataFrame([{\"date\":datetime.now().date(),\n",
    "                                                  \"datetime\":datetime.now(),\n",
    "                                                  \"keyword\":r.keyword,\n",
    "                                                  \"result\":result,\n",
    "                                                  \"source\":r.source\n",
    "                                                 }])\n",
    "                                   ])\n",
    "        count+=1\n",
    "        if sleep:\n",
    "            time.sleep(random.randint(15, 20))\n",
    "    if return_df:\n",
    "        return results_df"
   ]
  },
  {
   "cell_type": "code",
   "execution_count": 46,
   "metadata": {
    "ExecuteTime": {
     "end_time": "2017-07-14T06:22:02.126166Z",
     "start_time": "2017-07-14T06:22:00.245560Z"
    }
   },
   "outputs": [
    {
     "data": {
      "text/plain": [
       "True"
      ]
     },
     "execution_count": 46,
     "metadata": {},
     "output_type": "execute_result"
    }
   ],
   "source": [
    "verify_cookies_work()"
   ]
  },
  {
   "cell_type": "code",
   "execution_count": 38,
   "metadata": {
    "ExecuteTime": {
     "end_time": "2017-07-14T06:16:08.886496Z",
     "start_time": "2017-07-14T06:12:45.814448Z"
    }
   },
   "outputs": [
    {
     "name": "stdout",
     "output_type": "stream",
     "text": [
      "connection reset, waiting 90\n"
     ]
    },
    {
     "data": {
      "text/html": [
       "<div>\n",
       "<table border=\"1\" class=\"dataframe\">\n",
       "  <thead>\n",
       "    <tr style=\"text-align: right;\">\n",
       "      <th></th>\n",
       "      <th>date</th>\n",
       "      <th>datetime</th>\n",
       "      <th>keyword</th>\n",
       "      <th>result</th>\n",
       "      <th>source</th>\n",
       "    </tr>\n",
       "  </thead>\n",
       "  <tbody>\n",
       "    <tr>\n",
       "      <th>0</th>\n",
       "      <td>2017-07-14</td>\n",
       "      <td>2017-07-14 06:12:48.502143</td>\n",
       "      <td>hello</td>\n",
       "      <td>has_results</td>\n",
       "      <td>test</td>\n",
       "    </tr>\n",
       "    <tr>\n",
       "      <th>0</th>\n",
       "      <td>2017-07-14</td>\n",
       "      <td>2017-07-14 06:13:05.141758</td>\n",
       "      <td>lxb</td>\n",
       "      <td>censored</td>\n",
       "      <td>test</td>\n",
       "    </tr>\n",
       "    <tr>\n",
       "      <th>0</th>\n",
       "      <td>2017-07-14</td>\n",
       "      <td>2017-07-14 06:13:23.329775</td>\n",
       "      <td>习胞子</td>\n",
       "      <td>no_results</td>\n",
       "      <td>unicode</td>\n",
       "    </tr>\n",
       "    <tr>\n",
       "      <th>0</th>\n",
       "      <td>2017-07-14</td>\n",
       "      <td>2017-07-14 06:15:09.901741</td>\n",
       "      <td>自由亚洲电台</td>\n",
       "      <td>reset</td>\n",
       "      <td>should reset</td>\n",
       "    </tr>\n",
       "    <tr>\n",
       "      <th>0</th>\n",
       "      <td>2017-07-14</td>\n",
       "      <td>2017-07-14 06:15:31.526905</td>\n",
       "      <td>刘晓波</td>\n",
       "      <td>censored</td>\n",
       "      <td>string</td>\n",
       "    </tr>\n",
       "    <tr>\n",
       "      <th>0</th>\n",
       "      <td>2017-07-14</td>\n",
       "      <td>2017-07-14 06:15:52.814367</td>\n",
       "      <td>dhfjkdashfjkasdhfsadsf87sadfhjfasdnf</td>\n",
       "      <td>no_results</td>\n",
       "      <td>NaN</td>\n",
       "    </tr>\n",
       "  </tbody>\n",
       "</table>\n",
       "</div>"
      ],
      "text/plain": [
       "         date                   datetime  \\\n",
       "0  2017-07-14 2017-07-14 06:12:48.502143   \n",
       "0  2017-07-14 2017-07-14 06:13:05.141758   \n",
       "0  2017-07-14 2017-07-14 06:13:23.329775   \n",
       "0  2017-07-14 2017-07-14 06:15:09.901741   \n",
       "0  2017-07-14 2017-07-14 06:15:31.526905   \n",
       "0  2017-07-14 2017-07-14 06:15:52.814367   \n",
       "\n",
       "                                keyword       result        source  \n",
       "0                                 hello  has_results          test  \n",
       "0                                   lxb     censored          test  \n",
       "0                                   习胞子   no_results       unicode  \n",
       "0                                自由亚洲电台        reset  should reset  \n",
       "0                                   刘晓波     censored        string  \n",
       "0  dhfjkdashfjkasdhfsadsf87sadfhjfasdnf   no_results           NaN  "
      ]
     },
     "execution_count": 38,
     "metadata": {},
     "output_type": "execute_result"
    }
   ],
   "source": [
    "sample_keywords = pd.DataFrame(\n",
    "    [{'keyword':'hello','Index':0,'source':'test'},\n",
    "     {'keyword':'lxb','Index':1,'source':'test'},\n",
    "     {'keyword':u'习胞子','Index':2,'source':'unicode'},\n",
    "     {'keyword':'自由亚洲电台','Index':3,'source':'should reset'},\n",
    "     {'keyword':'刘晓波','Index':4,'source':'string'},\n",
    "     {'keyword':'dhfjkdashfjkasdhfsadsf87sadfhjfasdnf'}])\n",
    "\n",
    "run(sample_keywords,verbose='none',insert=False,return_df=True)"
   ]
  },
  {
   "cell_type": "code",
   "execution_count": 74,
   "metadata": {
    "ExecuteTime": {
     "end_time": "2017-07-14T06:39:02.138751Z",
     "start_time": "2017-07-14T06:38:47.526703Z"
    }
   },
   "outputs": [],
   "source": [
    "lxb_categories = [\"Cultural Revolution\",\"Dissident\",\"charter 08\",\"human rights\",\"Charter 08\",\"Dissident / Activist\",\"Detention\",\"Human Rights\",\"Tiananmen Square (June 4 1989)\"]\n",
    "df1 = get_keywords_from_source(\"wechat_keywords\",\"Keyword\",\"wechat spreadsheet\")\n",
    "df2 = get_keywords_from_source(\"https://raw.githubusercontent.com/citizenlab/chat-censorship/master/livestream/livestream_keywords_05_15_09_16.csv\",'word','livestream_05_15_09_16',lxb_categories=lxb_categories)\n",
    "df3 = get_keywords_from_source(\"https://raw.githubusercontent.com/citizenlab/chat-censorship/master/TOM-Skype--Sina-UC/blocked-words.csv\",\"word\",\"tom-skype-sina\",lxb_categories=lxb_categories)\n",
    "test_keywords = pd.concat([df1,df2,df3]).reset_index(drop=True)"
   ]
  },
  {
   "cell_type": "code",
   "execution_count": 77,
   "metadata": {
    "ExecuteTime": {
     "end_time": "2017-07-14T06:39:41.422025Z",
     "start_time": "2017-07-14T06:39:41.401061Z"
    }
   },
   "outputs": [
    {
     "name": "stdout",
     "output_type": "stream",
     "text": [
      "1612\n"
     ]
    },
    {
     "data": {
      "text/html": [
       "<div>\n",
       "<table border=\"1\" class=\"dataframe\">\n",
       "  <thead>\n",
       "    <tr style=\"text-align: right;\">\n",
       "      <th></th>\n",
       "      <th>keyword</th>\n",
       "      <th>source</th>\n",
       "    </tr>\n",
       "  </thead>\n",
       "  <tbody>\n",
       "    <tr>\n",
       "      <th>0</th>\n",
       "      <td>退出中共</td>\n",
       "      <td>wechat spreadsheet</td>\n",
       "    </tr>\n",
       "    <tr>\n",
       "      <th>1</th>\n",
       "      <td>中革中央</td>\n",
       "      <td>wechat spreadsheet</td>\n",
       "    </tr>\n",
       "    <tr>\n",
       "      <th>2</th>\n",
       "      <td>共产党下台</td>\n",
       "      <td>wechat spreadsheet</td>\n",
       "    </tr>\n",
       "    <tr>\n",
       "      <th>3</th>\n",
       "      <td>突破中共</td>\n",
       "      <td>wechat spreadsheet</td>\n",
       "    </tr>\n",
       "    <tr>\n",
       "      <th>4</th>\n",
       "      <td>废除中共</td>\n",
       "      <td>wechat spreadsheet</td>\n",
       "    </tr>\n",
       "  </tbody>\n",
       "</table>\n",
       "</div>"
      ],
      "text/plain": [
       "  keyword              source\n",
       "0    退出中共  wechat spreadsheet\n",
       "1    中革中央  wechat spreadsheet\n",
       "2   共产党下台  wechat spreadsheet\n",
       "3    突破中共  wechat spreadsheet\n",
       "4    废除中共  wechat spreadsheet"
      ]
     },
     "execution_count": 77,
     "metadata": {},
     "output_type": "execute_result"
    }
   ],
   "source": [
    "print len(test_keywords)\n",
    "test_keywords.head()"
   ]
  },
  {
   "cell_type": "code",
   "execution_count": null,
   "metadata": {
    "ExecuteTime": {
     "start_time": "2017-07-14T06:40:49.580Z"
    }
   },
   "outputs": [
    {
     "name": "stdout",
     "output_type": "stream",
     "text": [
      "0 退出中共 censored\n"
     ]
    }
   ],
   "source": [
    "run(test_keywords)"
   ]
  },
  {
   "cell_type": "code",
   "execution_count": 25,
   "metadata": {
    "ExecuteTime": {
     "end_time": "2017-07-14T05:56:06.258784Z",
     "start_time": "2017-07-14T05:56:06.221539Z"
    }
   },
   "outputs": [
    {
     "data": {
      "text/html": [
       "<div>\n",
       "<table border=\"1\" class=\"dataframe\">\n",
       "  <thead>\n",
       "    <tr style=\"text-align: right;\">\n",
       "      <th></th>\n",
       "      <th>id</th>\n",
       "      <th>date</th>\n",
       "      <th>datetime</th>\n",
       "      <th>keyword</th>\n",
       "      <th>censored</th>\n",
       "      <th>no_results</th>\n",
       "      <th>reset</th>\n",
       "      <th>result</th>\n",
       "      <th>source</th>\n",
       "    </tr>\n",
       "  </thead>\n",
       "  <tbody>\n",
       "    <tr>\n",
       "      <th>0</th>\n",
       "      <td>0</td>\n",
       "      <td>2017-07-14</td>\n",
       "      <td>2017-07-14 05:51:35.469646</td>\n",
       "      <td>hello</td>\n",
       "      <td>0</td>\n",
       "      <td>0</td>\n",
       "      <td>0</td>\n",
       "      <td>has_results</td>\n",
       "      <td>test</td>\n",
       "    </tr>\n",
       "    <tr>\n",
       "      <th>1</th>\n",
       "      <td>1</td>\n",
       "      <td>2017-07-14</td>\n",
       "      <td>2017-07-14 05:51:36.469346</td>\n",
       "      <td>lxb</td>\n",
       "      <td>1</td>\n",
       "      <td>0</td>\n",
       "      <td>0</td>\n",
       "      <td>censored</td>\n",
       "      <td>test</td>\n",
       "    </tr>\n",
       "    <tr>\n",
       "      <th>2</th>\n",
       "      <td>2</td>\n",
       "      <td>2017-07-14</td>\n",
       "      <td>2017-07-14 05:51:37.290245</td>\n",
       "      <td>习胞子</td>\n",
       "      <td>0</td>\n",
       "      <td>1</td>\n",
       "      <td>0</td>\n",
       "      <td>no_results</td>\n",
       "      <td>unicode</td>\n",
       "    </tr>\n",
       "    <tr>\n",
       "      <th>3</th>\n",
       "      <td>3</td>\n",
       "      <td>2017-07-14</td>\n",
       "      <td>2017-07-14 05:53:17.141411</td>\n",
       "      <td>自由亚洲电台</td>\n",
       "      <td>0</td>\n",
       "      <td>0</td>\n",
       "      <td>1</td>\n",
       "      <td>reset</td>\n",
       "      <td>should reset</td>\n",
       "    </tr>\n",
       "    <tr>\n",
       "      <th>4</th>\n",
       "      <td>4</td>\n",
       "      <td>2017-07-14</td>\n",
       "      <td>2017-07-14 05:53:19.224088</td>\n",
       "      <td>刘晓波</td>\n",
       "      <td>1</td>\n",
       "      <td>0</td>\n",
       "      <td>0</td>\n",
       "      <td>censored</td>\n",
       "      <td>string</td>\n",
       "    </tr>\n",
       "    <tr>\n",
       "      <th>5</th>\n",
       "      <td>5</td>\n",
       "      <td>2017-07-14</td>\n",
       "      <td>2017-07-14 05:53:20.061392</td>\n",
       "      <td>dhfjkdashfjkasdhfsadsf87sadfhjfasdnf</td>\n",
       "      <td>0</td>\n",
       "      <td>1</td>\n",
       "      <td>0</td>\n",
       "      <td>no_results</td>\n",
       "      <td>None</td>\n",
       "    </tr>\n",
       "  </tbody>\n",
       "</table>\n",
       "</div>"
      ],
      "text/plain": [
       "   id        date                    datetime  \\\n",
       "0   0  2017-07-14  2017-07-14 05:51:35.469646   \n",
       "1   1  2017-07-14  2017-07-14 05:51:36.469346   \n",
       "2   2  2017-07-14  2017-07-14 05:51:37.290245   \n",
       "3   3  2017-07-14  2017-07-14 05:53:17.141411   \n",
       "4   4  2017-07-14  2017-07-14 05:53:19.224088   \n",
       "5   5  2017-07-14  2017-07-14 05:53:20.061392   \n",
       "\n",
       "                                keyword  censored  no_results  reset  \\\n",
       "0                                 hello         0           0      0   \n",
       "1                                   lxb         1           0      0   \n",
       "2                                   习胞子         0           1      0   \n",
       "3                                自由亚洲电台         0           0      1   \n",
       "4                                   刘晓波         1           0      0   \n",
       "5  dhfjkdashfjkasdhfsadsf87sadfhjfasdnf         0           1      0   \n",
       "\n",
       "        result        source  \n",
       "0  has_results          test  \n",
       "1     censored          test  \n",
       "2   no_results       unicode  \n",
       "3        reset  should reset  \n",
       "4     censored        string  \n",
       "5   no_results          None  "
      ]
     },
     "execution_count": 25,
     "metadata": {},
     "output_type": "execute_result"
    }
   ],
   "source": [
    "sample_df = sqlite_to_df(sqlite_file)\n",
    "sample_df"
   ]
  }
 ],
 "metadata": {
  "kernelspec": {
   "display_name": "Python 2",
   "language": "python",
   "name": "python2"
  },
  "language_info": {
   "codemirror_mode": {
    "name": "ipython",
    "version": 2
   },
   "file_extension": ".py",
   "mimetype": "text/x-python",
   "name": "python",
   "nbconvert_exporter": "python",
   "pygments_lexer": "ipython2",
   "version": "2.7.13"
  },
  "toc": {
   "colors": {
    "hover_highlight": "#DAA520",
    "running_highlight": "#FF0000",
    "selected_highlight": "#FFD700"
   },
   "moveMenuLeft": true,
   "nav_menu": {
    "height": "12px",
    "width": "252px"
   },
   "navigate_menu": true,
   "number_sections": true,
   "sideBar": true,
   "threshold": 4,
   "toc_cell": false,
   "toc_section_display": "block",
   "toc_window_display": false
  }
 },
 "nbformat": 4,
 "nbformat_minor": 2
}
