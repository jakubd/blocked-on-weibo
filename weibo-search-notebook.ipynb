{
 "cells": [
  {
   "cell_type": "code",
   "execution_count": 1,
   "metadata": {
    "ExecuteTime": {
     "end_time": "2017-07-13T18:22:16.142636Z",
     "start_time": "2017-07-13T18:22:16.066409Z"
    },
    "collapsed": true
   },
   "outputs": [],
   "source": [
    "#!/usr/bin/env python\n",
    "# -*- coding: utf-8 -*-\n",
    "\n",
    "from bs4 import BeautifulSoup\n",
    "import urllib\n",
    "import codecs\n",
    "import time\n",
    "import random"
   ]
  },
  {
   "cell_type": "code",
   "execution_count": 2,
   "metadata": {
    "ExecuteTime": {
     "end_time": "2017-07-13T18:22:16.160915Z",
     "start_time": "2017-07-13T18:22:16.146063Z"
    }
   },
   "outputs": [],
   "source": [
    "censorship_phrase_utf8 = '根据相关法律法规和政策'\n",
    "censorship_phrase_decoded = codecs.encode(censorship_phrase_utf8.decode('utf8'), 'unicode_escape')\n",
    "\n",
    "def has_censorship(keyword):\n",
    "    no_results_phrase_utf8 = '抱歉，未找到“%s”相关结果。' % keyword\n",
    "    no_results_phrase_decoded = codecs.encode(no_results_phrase_utf8.decode('utf8'), 'unicode_escape')\n",
    "    \n",
    "    r = urllib.urlopen('http://s.weibo.com/weibo/%s&Refer=index' % keyword).read()\n",
    "    time.sleep(random.randint(1, 3))\n",
    "    \n",
    "    if censorship_phrase_decoded in r:\n",
    "        return True\n",
    "    elif no_results_phrase_decoded in r:\n",
    "        return None\n",
    "    else:\n",
    "        return False\n",
    "    #soup = BeautifulSoup(r, 'html.parser')"
   ]
  },
  {
   "cell_type": "code",
   "execution_count": 3,
   "metadata": {
    "ExecuteTime": {
     "end_time": "2017-07-13T18:22:16.171495Z",
     "start_time": "2017-07-13T18:22:16.164273Z"
    },
    "collapsed": true
   },
   "outputs": [],
   "source": [
    "test_keywords = ['hello',\n",
    "                'lxb',\n",
    "                '习胞子']"
   ]
  },
  {
   "cell_type": "code",
   "execution_count": 7,
   "metadata": {
    "ExecuteTime": {
     "end_time": "2017-07-13T18:24:28.731773Z",
     "start_time": "2017-07-13T18:24:04.351215Z"
    }
   },
   "outputs": [
    {
     "name": "stdout",
     "output_type": "stream",
     "text": [
      " hello \tFalse\n",
      "lxb \tTrue\n",
      "习胞子 \tNone\n"
     ]
    }
   ],
   "source": [
    "for k in test_keywords:\n",
    "    print k, \"\\t\", has_censorship(k)"
   ]
  }
 ],
 "metadata": {
  "kernelspec": {
   "display_name": "Python 2",
   "language": "python",
   "name": "python2"
  },
  "language_info": {
   "codemirror_mode": {
    "name": "ipython",
    "version": 2
   },
   "file_extension": ".py",
   "mimetype": "text/x-python",
   "name": "python",
   "nbconvert_exporter": "python",
   "pygments_lexer": "ipython2",
   "version": "2.7.13"
  },
  "toc": {
   "colors": {
    "hover_highlight": "#DAA520",
    "running_highlight": "#FF0000",
    "selected_highlight": "#FFD700"
   },
   "moveMenuLeft": true,
   "nav_menu": {
    "height": "12px",
    "width": "252px"
   },
   "navigate_menu": true,
   "number_sections": true,
   "sideBar": true,
   "threshold": 4,
   "toc_cell": false,
   "toc_section_display": "block",
   "toc_window_display": false
  }
 },
 "nbformat": 4,
 "nbformat_minor": 2
}
