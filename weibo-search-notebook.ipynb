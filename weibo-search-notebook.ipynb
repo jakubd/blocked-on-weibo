{
 "cells": [
  {
   "cell_type": "code",
   "execution_count": 69,
   "metadata": {
    "ExecuteTime": {
     "end_time": "2017-07-13T19:17:37.647441Z",
     "start_time": "2017-07-13T19:17:37.461556Z"
    }
   },
   "outputs": [],
   "source": [
    "#!/usr/bin/env python\n",
    "# -*- coding: utf-8 -*-\n",
    "\n",
    "from bs4 import BeautifulSoup\n",
    "import urllib\n",
    "import codecs\n",
    "import time\n",
    "import random\n",
    "import sqlite3\n",
    "from datetime import datetime\n",
    "import pandas as pd\n",
    "import os\n",
    "from df2gspread import gspread2df as g2d"
   ]
  },
  {
   "cell_type": "code",
   "execution_count": null,
   "metadata": {
    "collapsed": true
   },
   "outputs": [],
   "source": [
    "### SETTINGS\n",
    "\n",
    "sqlite_file = 'results.sqlite'\n",
    "new_database = True\n",
    "verbose = True\n",
    "use_sample_keywords = False"
   ]
  },
  {
   "cell_type": "code",
   "execution_count": 94,
   "metadata": {
    "ExecuteTime": {
     "end_time": "2017-07-13T19:26:10.321022Z",
     "start_time": "2017-07-13T19:26:10.299514Z"
    }
   },
   "outputs": [],
   "source": [
    "censorship_phrase_utf8 = '根据相关法律法规和政策'\n",
    "censorship_phrase_decoded = codecs.encode(censorship_phrase_utf8.decode('utf8'), 'unicode_escape')\n",
    "\n",
    "def has_censorship(keyword):\n",
    "    no_results_phrase_utf8 = '抱歉，未找到'\n",
    "    no_results_phrase_decoded = codecs.encode(no_results_phrase_utf8.decode('utf8'), 'unicode_escape')\n",
    "    \n",
    "    r = urllib.urlopen(('http://s.weibo.com/weibo/%s&Refer=index' % keyword).encode('utf-8')).read()\n",
    "    time.sleep(random.randint(1, 3))\n",
    "    \n",
    "    if censorship_phrase_decoded in r:\n",
    "        return True\n",
    "    elif no_results_phrase_decoded in r:\n",
    "        return None\n",
    "    else:\n",
    "        return False\n",
    "    #soup = BeautifulSoup(r, 'html.parser')"
   ]
  },
  {
   "cell_type": "code",
   "execution_count": 77,
   "metadata": {
    "ExecuteTime": {
     "end_time": "2017-07-13T19:21:06.669190Z",
     "start_time": "2017-07-13T19:21:06.656769Z"
    }
   },
   "outputs": [],
   "source": [
    "def create_table(sqlite_file):\n",
    "    conn = sqlite3.connect(sqlite_file)\n",
    "    c = conn.cursor()\n",
    "    c.execute('CREATE TABLE results (id int, date date, datetime datetime, keyword string, censored bool, no_results bool,PRIMARY KEY(id,date))')\n",
    "    conn.commit()\n",
    "    conn.close()\n",
    "    \n",
    "if new_database and os.path.isfile(sqlite_file):\n",
    "    os.remove(sqlite_file)\n",
    "if not os.path.isfile(sqlite_file):\n",
    "    create_table(sqlite_file)"
   ]
  },
  {
   "cell_type": "code",
   "execution_count": 66,
   "metadata": {
    "ExecuteTime": {
     "end_time": "2017-07-13T19:16:19.691472Z",
     "start_time": "2017-07-13T19:16:19.676684Z"
    }
   },
   "outputs": [],
   "source": [
    "def insert_into_table(record_id,keyword,result):\n",
    "    conn = sqlite3.connect(sqlite_file)\n",
    "    conn.text_factory = str\n",
    "    c = conn.cursor()\n",
    "    \n",
    "    dt = datetime.now()\n",
    "    d = dt.date()\n",
    "    if result is True:\n",
    "        censored = True\n",
    "    else:\n",
    "        censored = False\n",
    "    if result is None:\n",
    "        no_results = True\n",
    "    else:\n",
    "        no_results = False\n",
    "\n",
    "    query = \"\"\"INSERT INTO results (id, date, datetime, keyword, censored, no_results) VALUES (?,?,?,?,?,?);\"\"\"\n",
    "    c.execute(query,(record_id, d, dt, keyword, censored, no_results))\n",
    "\n",
    "    conn.commit()\n",
    "    conn.close()"
   ]
  },
  {
   "cell_type": "code",
   "execution_count": 64,
   "metadata": {
    "ExecuteTime": {
     "end_time": "2017-07-13T19:16:01.655269Z",
     "start_time": "2017-07-13T19:16:01.645337Z"
    }
   },
   "outputs": [],
   "source": [
    "def sqlite_to_df(sqlite_file):\n",
    "    conn = sqlite3.connect(sqlite_file)\n",
    "    df = pd.read_sql_query(\"select * from results;\", conn)\n",
    "    return df"
   ]
  },
  {
   "cell_type": "code",
   "execution_count": 51,
   "metadata": {
    "ExecuteTime": {
     "end_time": "2017-07-13T19:10:32.732893Z",
     "start_time": "2017-07-13T19:10:32.725645Z"
    },
    "collapsed": true
   },
   "outputs": [],
   "source": [
    "sample_test_keywords = ['hello',\n",
    "                'lxb',\n",
    "                '习胞子']"
   ]
  },
  {
   "cell_type": "code",
   "execution_count": 72,
   "metadata": {
    "ExecuteTime": {
     "end_time": "2017-07-13T19:20:19.072881Z",
     "start_time": "2017-07-13T19:20:12.232093Z"
    },
    "collapsed": true
   },
   "outputs": [],
   "source": [
    "test_df = g2d.download(\"wechat_keywords\",col_names=True)"
   ]
  },
  {
   "cell_type": "code",
   "execution_count": 73,
   "metadata": {
    "ExecuteTime": {
     "end_time": "2017-07-13T19:20:23.053068Z",
     "start_time": "2017-07-13T19:20:23.007385Z"
    }
   },
   "outputs": [
    {
     "data": {
      "text/html": [
       "<div>\n",
       "<table border=\"1\" class=\"dataframe\">\n",
       "  <thead>\n",
       "    <tr style=\"text-align: right;\">\n",
       "      <th></th>\n",
       "      <th>Date Tested</th>\n",
       "      <th>Keyword</th>\n",
       "      <th>Translation</th>\n",
       "      <th>Theme</th>\n",
       "      <th>Category</th>\n",
       "      <th># of Components</th>\n",
       "      <th>Language</th>\n",
       "      <th>Retested Date</th>\n",
       "      <th>Status</th>\n",
       "      <th>Note</th>\n",
       "      <th>Media Source</th>\n",
       "      <th>Reference</th>\n",
       "      <th>Article Publish Date</th>\n",
       "      <th>Block in One-to-one Chat?</th>\n",
       "      <th>Tested Date (One-on-One)</th>\n",
       "    </tr>\n",
       "  </thead>\n",
       "  <tbody>\n",
       "    <tr>\n",
       "      <th>0</th>\n",
       "      <td>07/2016</td>\n",
       "      <td>零八宪章</td>\n",
       "      <td>Charter 08</td>\n",
       "      <td>Political</td>\n",
       "      <td>Charter 08</td>\n",
       "      <td>1</td>\n",
       "      <td>simplified Chinese</td>\n",
       "      <td>2017-05-09</td>\n",
       "      <td>Blocked</td>\n",
       "      <td>Reference to the manifesto initially signed by...</td>\n",
       "      <td></td>\n",
       "      <td></td>\n",
       "      <td></td>\n",
       "      <td>Not blocked</td>\n",
       "      <td>2017-05-18</td>\n",
       "    </tr>\n",
       "    <tr>\n",
       "      <th>1</th>\n",
       "      <td>07/2016</td>\n",
       "      <td>08宪章</td>\n",
       "      <td>Charter 08</td>\n",
       "      <td>Political</td>\n",
       "      <td>Charter 08</td>\n",
       "      <td>1</td>\n",
       "      <td>simplified Chinese</td>\n",
       "      <td>2017-05-09</td>\n",
       "      <td>Blocked</td>\n",
       "      <td>Reference to the manifesto initially signed by...</td>\n",
       "      <td></td>\n",
       "      <td></td>\n",
       "      <td></td>\n",
       "      <td>Not blocked</td>\n",
       "      <td>2017-05-18</td>\n",
       "    </tr>\n",
       "    <tr>\n",
       "      <th>2</th>\n",
       "      <td>2017-06-19</td>\n",
       "      <td>王岐山家族</td>\n",
       "      <td>Wang Qishan family</td>\n",
       "      <td>People</td>\n",
       "      <td>Govt Official</td>\n",
       "      <td>1</td>\n",
       "      <td>simplified Chinese</td>\n",
       "      <td></td>\n",
       "      <td></td>\n",
       "      <td></td>\n",
       "      <td></td>\n",
       "      <td>http://cn.rfi.fr/中国/20170616-郭文贵爆料王岐山家族身份及财产资料</td>\n",
       "      <td>2017-06-16T14:22:37</td>\n",
       "      <td></td>\n",
       "      <td></td>\n",
       "    </tr>\n",
       "    <tr>\n",
       "      <th>3</th>\n",
       "      <td>2017-06-20</td>\n",
       "      <td>中纪委批评14所大学意识形态工作不力</td>\n",
       "      <td>The Discipline Inspection Commission criticize...</td>\n",
       "      <td>Political</td>\n",
       "      <td>Censorship</td>\n",
       "      <td>1</td>\n",
       "      <td>simplified Chinese</td>\n",
       "      <td></td>\n",
       "      <td></td>\n",
       "      <td></td>\n",
       "      <td></td>\n",
       "      <td>http://www.ftchinese.com/story/001073078</td>\n",
       "      <td>2017-06-20T00:31:01</td>\n",
       "      <td></td>\n",
       "      <td></td>\n",
       "    </tr>\n",
       "    <tr>\n",
       "      <th>4</th>\n",
       "      <td>2017-06-21</td>\n",
       "      <td>19大人事</td>\n",
       "      <td>19 big personnel</td>\n",
       "      <td>Event</td>\n",
       "      <td>19th Party Congress</td>\n",
       "      <td>1</td>\n",
       "      <td>simplified Chinese</td>\n",
       "      <td></td>\n",
       "      <td></td>\n",
       "      <td></td>\n",
       "      <td></td>\n",
       "      <td>http://www.bbc.com/zhongwen/simp/chinese-news-...</td>\n",
       "      <td>2017-06-20T10:24:02</td>\n",
       "      <td></td>\n",
       "      <td></td>\n",
       "    </tr>\n",
       "  </tbody>\n",
       "</table>\n",
       "</div>"
      ],
      "text/plain": [
       "  Date Tested             Keyword  \\\n",
       "0     07/2016                零八宪章   \n",
       "1     07/2016                08宪章   \n",
       "2  2017-06-19               王岐山家族   \n",
       "3  2017-06-20  中纪委批评14所大学意识形态工作不力   \n",
       "4  2017-06-21               19大人事   \n",
       "\n",
       "                                         Translation      Theme  \\\n",
       "0                                         Charter 08  Political   \n",
       "1                                         Charter 08  Political   \n",
       "2                                 Wang Qishan family     People   \n",
       "3  The Discipline Inspection Commission criticize...  Political   \n",
       "4                                   19 big personnel      Event   \n",
       "\n",
       "              Category # of Components            Language Retested Date  \\\n",
       "0           Charter 08               1  simplified Chinese    2017-05-09   \n",
       "1           Charter 08               1  simplified Chinese    2017-05-09   \n",
       "2        Govt Official               1  simplified Chinese                 \n",
       "3           Censorship               1  simplified Chinese                 \n",
       "4  19th Party Congress               1  simplified Chinese                 \n",
       "\n",
       "    Status                                               Note Media Source  \\\n",
       "0  Blocked  Reference to the manifesto initially signed by...                \n",
       "1  Blocked  Reference to the manifesto initially signed by...                \n",
       "2                                                                            \n",
       "3                                                                            \n",
       "4                                                                            \n",
       "\n",
       "                                           Reference Article Publish Date  \\\n",
       "0                                                                           \n",
       "1                                                                           \n",
       "2     http://cn.rfi.fr/中国/20170616-郭文贵爆料王岐山家族身份及财产资料  2017-06-16T14:22:37   \n",
       "3           http://www.ftchinese.com/story/001073078  2017-06-20T00:31:01   \n",
       "4  http://www.bbc.com/zhongwen/simp/chinese-news-...  2017-06-20T10:24:02   \n",
       "\n",
       "  Block in One-to-one Chat? Tested Date (One-on-One)  \n",
       "0               Not blocked               2017-05-18  \n",
       "1               Not blocked               2017-05-18  \n",
       "2                                                     \n",
       "3                                                     \n",
       "4                                                     "
      ]
     },
     "execution_count": 73,
     "metadata": {},
     "output_type": "execute_result"
    }
   ],
   "source": [
    "test_df.head()"
   ]
  },
  {
   "cell_type": "code",
   "execution_count": 75,
   "metadata": {
    "ExecuteTime": {
     "end_time": "2017-07-13T19:20:46.261386Z",
     "start_time": "2017-07-13T19:20:46.256727Z"
    }
   },
   "outputs": [],
   "source": [
    "test_keywords = test_df.Keyword"
   ]
  },
  {
   "cell_type": "code",
   "execution_count": 95,
   "metadata": {
    "ExecuteTime": {
     "end_time": "2017-07-13T19:26:14.489725Z",
     "start_time": "2017-07-13T19:26:14.482947Z"
    }
   },
   "outputs": [],
   "source": [
    "def run():\n",
    "    if use_sample_keywords:\n",
    "        test_keywords = sample_test_keywords\n",
    "    for i,k in enumerate(test_keywords):\n",
    "        result = has_censorship(k)\n",
    "        if verbose:\n",
    "            print i, k, result\n",
    "        insert_into_table(i,k,result)"
   ]
  },
  {
   "cell_type": "code",
   "execution_count": null,
   "metadata": {
    "ExecuteTime": {
     "start_time": "2017-07-13T19:26:15.586Z"
    }
   },
   "outputs": [
    {
     "name": "stdout",
     "output_type": "stream",
     "text": [
      "0 零八宪章 True\n",
      "1 08宪章 True\n",
      "2 王岐山家族 None\n",
      "3 中纪委批评14所大学意识形态工作不力 None\n",
      "4 19大人事 False\n",
      "5 北戴河会议 False\n",
      "6 刘晓波病情+鲍彤被公安登门禁言 True\n",
      "7 香港团体+中联办示威+习近平+停止酷刑 None\n",
      "8 当局+释放+刘晓波+软禁 True\n",
      "9 刘晓波+肝癌晚期+保外就医 True\n",
      "10 国家主席+刘晓波 True\n",
      "11 劉曉波+律師 True\n",
      "12 薄熙来+患肝癌+保外就医 None\n",
      "13 鲍彤谴+责当局+延误刘晓波 True\n",
      "14 习访港+恐袭风险高+全面提升保安级别 None\n",
      "15 刘晓波+出国就医+死也要死在西方 True\n",
      "16 刘晓波+律师 True\n",
      "17 刘晓波+习近平 True\n",
      "18 刘晓波+虐待+狱中异议+堪忧 True\n",
      "19 刘晓波+呼吁 True\n",
      "20 京城乱象+聚餐必谈+郭文贵 False\n",
      "21 习近平访港3日万余名警察维护安保 False\n",
      "22 香港主权移交20年+习近平赴港+保安有多猛 False\n",
      "23 劉曉波+習 False\n",
      "24 国际间积极活动+刘晓波有望获准出国求医 False\n",
      "25 艾未未谈刘晓波+理性的改革者+不尽情理 False\n",
      "26 习近平访港+占领金紫荆雕塑抗议 False\n",
      "27 习近平+访问香港将+胡萝卜和大棒 False\n",
      "28 刘晓波+狱中生活+中共+洗刷罪责 False\n",
      "29 愿接纳刘晓波+提供最佳医疗 False\n",
      "30 习总大驾光临+香港街头+沦陷20年标语 False\n",
      "31 拒绝刘晓波出国+德美大使争取探视 False\n",
      "32 习近平到港+彩旗飘飘+抗议消音 False\n",
      "33 社交媒体突现+刘晓波+狱中生活 False\n",
      "34 港警逮捕黄之锋+抗议习近平七一访港 False\n",
      "35 港人占领金紫荆+多人遭扣+无法抗习 False\n",
      "36 乒乓球男隊+兵變+國家和粉絲+之間的風暴 False\n",
      "37 泛民函習+重啟政改+香港不可分離 False\n",
      "38 西隧口橫額迎習+鴨寮街現+淪陷 False\n",
      "39 眾志社民連佔金紫荊+26人被捕+花瓣示威 False\n",
      "40 泛民採溫和策略+爭取習近平+對話空間 False\n",
      "41 地方換屆結束+習近平大豐收 False\n",
      "42 中国不准刘晓波出国接受癌症治疗 False\n",
      "43 习近平抵达+香港人抗议 False\n",
      "44 香港记者+刘晓波 False\n",
      "45 习近平+抗议运动+领袖获释 False\n",
      "46 刘晓波家人+身体状况+可搭飞机出国 False\n",
      "47 第一夫人+彭丽媛+魅力攻势引争议 False\n",
      "48 焦点对话+习近平+对港人+软硬兼施 False\n",
      "49 习近平访港+在港人中+引起什么反应 False\n",
      "50 习近平+访港+暴露+隔阂 False\n",
      "51 郭文贵口头禅+刚刚开始+犯忌+刑拘不止一人 False\n",
      "52 吁放刘晓波+林郑月娥+拒向北京反映 False\n",
      "53 港人不信+有双普选+价值感悲观 False\n",
      "54 德语媒体+习近平+香港划下的红线 False\n",
      "55 官方封锁消息+湖南宁乡娄底+灾民游行抗议 False\n",
      "56 美德专家+刘晓波+医疗小组 False\n"
     ]
    }
   ],
   "source": [
    "run()"
   ]
  },
  {
   "cell_type": "code",
   "execution_count": 78,
   "metadata": {
    "ExecuteTime": {
     "end_time": "2017-07-13T19:21:08.774809Z",
     "start_time": "2017-07-13T19:21:08.760174Z"
    }
   },
   "outputs": [
    {
     "data": {
      "text/html": [
       "<div>\n",
       "<table border=\"1\" class=\"dataframe\">\n",
       "  <thead>\n",
       "    <tr style=\"text-align: right;\">\n",
       "      <th></th>\n",
       "      <th>id</th>\n",
       "      <th>date</th>\n",
       "      <th>datetime</th>\n",
       "      <th>keyword</th>\n",
       "      <th>censored</th>\n",
       "      <th>no_results</th>\n",
       "    </tr>\n",
       "  </thead>\n",
       "  <tbody>\n",
       "  </tbody>\n",
       "</table>\n",
       "</div>"
      ],
      "text/plain": [
       "Empty DataFrame\n",
       "Columns: [id, date, datetime, keyword, censored, no_results]\n",
       "Index: []"
      ]
     },
     "execution_count": 78,
     "metadata": {},
     "output_type": "execute_result"
    }
   ],
   "source": [
    "df = sqlite_to_df(sqlite_file)\n",
    "df.head()"
   ]
  }
 ],
 "metadata": {
  "kernelspec": {
   "display_name": "Python 2",
   "language": "python",
   "name": "python2"
  },
  "language_info": {
   "codemirror_mode": {
    "name": "ipython",
    "version": 2
   },
   "file_extension": ".py",
   "mimetype": "text/x-python",
   "name": "python",
   "nbconvert_exporter": "python",
   "pygments_lexer": "ipython2",
   "version": "2.7.13"
  },
  "toc": {
   "colors": {
    "hover_highlight": "#DAA520",
    "running_highlight": "#FF0000",
    "selected_highlight": "#FFD700"
   },
   "moveMenuLeft": true,
   "nav_menu": {
    "height": "12px",
    "width": "252px"
   },
   "navigate_menu": true,
   "number_sections": true,
   "sideBar": true,
   "threshold": 4,
   "toc_cell": false,
   "toc_section_display": "block",
   "toc_window_display": false
  }
 },
 "nbformat": 4,
 "nbformat_minor": 2
}
